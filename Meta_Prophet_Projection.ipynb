{
 "cells": [
  {
   "cell_type": "code",
   "execution_count": 3,
   "id": "aa563d58",
   "metadata": {},
   "outputs": [],
   "source": [
    "import requests \n",
    "import json\n",
    "import pyodbc \n",
    "import numpy as np\n",
    "from datetime import datetime, timedelta\n",
    "from requests.auth import HTTPBasicAuth\n",
    "import time\n",
    "from datetime import datetime, timedelta\n",
    "import re\n",
    "import pandas as pd\n",
    "\n",
    "import sklearn\n",
    "from sklearn.feature_extraction.text import TfidfVectorizer\n",
    "from sklearn.metrics.pairwise import cosine_similarity\n",
    "\n",
    "import warnings\n",
    "warnings.filterwarnings('ignore')\n"
   ]
  },
  {
   "cell_type": "markdown",
   "id": "417bfc58-d564-4172-a55d-c7f0db02f02c",
   "metadata": {},
   "source": [
    "### 1.1 - Data Extract: Live Bugs"
   ]
  },
  {
   "cell_type": "code",
   "execution_count": 39,
   "id": "540d744e",
   "metadata": {},
   "outputs": [
    {
     "name": "stdout",
     "output_type": "stream",
     "text": [
      "Number of regressed bugs is:  3242\n",
      "Number of live bugs is:  6017\n"
     ]
    }
   ],
   "source": [
    "cnxn = pyodbc.connect(\"Driver={SQL Server};\"\n",
    "                          \"Server=XXXX;\"\n",
    "                          \"Database=XXXX;\"\n",
    "                          \"Trusted_Connection=yes;\")\n",
    "\n",
    "query2 = \"\"\"\n",
    "        SELECT XXXXX\n",
    "        FROM XXXXX\n",
    "        WHERE XXXXX\n",
    "\"\"\"\n",
    "CommunityIssue_all = pd.read_sql(query2,cnxn)\n",
    "\n",
    "CommunityIssue_all['CommunityRegBug dummy'] = 1\n",
    "CommunityIssue_all.loc[CommunityIssue_all['DEVTrack'] == \"Not Regressed Bug\" , 'CommunityRegBug dummy'] = 0  \n",
    "\n",
    "### Add me too count from #rowForcustomfield_36318 > div > strong > label\n",
    "cnxn.close()\n",
    "\n",
    "# CommunityIssue.head(10).to_csv('check.csv')\n",
    "\n",
    "# This one shows the \"regressed bugs only\" \n",
    "# CommunityIssue_bugs = CommunityIssue_all[CommunityIssue_all['CommunityRegBug dummy']==1]\n",
    "CommunityIssue_bugs = CommunityIssue_all\n",
    "CommunityIssue_bugs['ExternalID'] = CommunityIssue_bugs['ExternalID'].str.replace(\"TS4-\", \"\")\n",
    "CommunityIssue_bugs.rename(columns={'bugid': 'community_id', 'ExternalID':'bugid'}, inplace=True)\n",
    "CommunityIssue_bugs['bugid'] = CommunityIssue_bugs['bugid'].str.strip()\n",
    "# CommunityIssue_bugs.head(1)\n",
    "# Label as the affected version\n",
    "\n",
    "print('Number of regressed bugs is: ', CommunityIssue_bugs['bugid'].count())\n",
    "\n",
    "print('Number of live bugs is: ', CommunityIssue_bugs['community_id'].count())\n",
    "\n",
    "# CommunityIssue_bugs['Label'].unique()"
   ]
  },
  {
   "cell_type": "markdown",
   "id": "8190845f-f9c9-4dbf-a57e-eb263b77da45",
   "metadata": {},
   "source": [
    "### 1.2 - Finding the pack bugs belong to. "
   ]
  },
  {
   "cell_type": "code",
   "execution_count": 45,
   "id": "fa0ba25a-cfaa-4979-8ad0-d8a05bec1507",
   "metadata": {},
   "outputs": [
    {
     "data": {
      "text/plain": [
       "4110"
      ]
     },
     "execution_count": 45,
     "metadata": {},
     "output_type": "execute_result"
    }
   ],
   "source": [
    "# Using the label to find the pack\n",
    "substring = 'ep'\n",
    "CommunityIssue_bugs['Label'].fillna('ep?', inplace=True)\n",
    "# CommunityIssue_bugs.to_csv('community_issues_labelcheck.csv')\n",
    "CommunityIssue_bugs['Contains_Substring'] = CommunityIssue_bugs['Label'].str.lower().str.contains(substring)\n",
    "CommunityIssue_bugs_eps = CommunityIssue_bugs[CommunityIssue_bugs['Contains_Substring']]\n",
    "\n",
    "# CommunityIssue_bugs_eps.head(1)\n",
    "CommunityIssue_bugs_eps['community_id'].count()"
   ]
  },
  {
   "cell_type": "markdown",
   "id": "7916af4e-006d-4593-a479-c1233eb26f98",
   "metadata": {},
   "source": [
    "\n",
    "### 2. Preparing the input data. \n",
    "#### 2.1. Here you should define \"n\" to search for packs. All the eligible packs before the packs to project."
   ]
  },
  {
   "cell_type": "code",
   "execution_count": 139,
   "id": "3fee5243-51f4-45ee-a7cd-04f1c6832a39",
   "metadata": {},
   "outputs": [],
   "source": [
    "# Define the set of substrings to search for\n",
    "n = 16\n",
    "pack = 'EP16'"
   ]
  },
  {
   "cell_type": "code",
   "execution_count": 52,
   "id": "3731a717-ec4a-498d-bab5-7ec473016dad",
   "metadata": {},
   "outputs": [
    {
     "name": "stdout",
     "output_type": "stream",
     "text": [
      "['EP13' 'NA' 'EP12' 'EP11' 'EP09' 'EP01' 'EP10' 'EP08' 'EP07' 'EP14'\n",
      " 'EP15']\n",
      "Number of bugs per pack: \n",
      "\n"
     ]
    },
    {
     "data": {
      "text/html": [
       "<div>\n",
       "<style scoped>\n",
       "    .dataframe tbody tr th:only-of-type {\n",
       "        vertical-align: middle;\n",
       "    }\n",
       "\n",
       "    .dataframe tbody tr th {\n",
       "        vertical-align: top;\n",
       "    }\n",
       "\n",
       "    .dataframe thead th {\n",
       "        text-align: right;\n",
       "    }\n",
       "</style>\n",
       "<table border=\"1\" class=\"dataframe\">\n",
       "  <thead>\n",
       "    <tr style=\"text-align: right;\">\n",
       "      <th></th>\n",
       "      <th>Pack</th>\n",
       "      <th># Bugs</th>\n",
       "    </tr>\n",
       "  </thead>\n",
       "  <tbody>\n",
       "    <tr>\n",
       "      <th>0</th>\n",
       "      <td>EP01</td>\n",
       "      <td>1</td>\n",
       "    </tr>\n",
       "    <tr>\n",
       "      <th>1</th>\n",
       "      <td>EP07</td>\n",
       "      <td>9</td>\n",
       "    </tr>\n",
       "    <tr>\n",
       "      <th>2</th>\n",
       "      <td>EP08</td>\n",
       "      <td>93</td>\n",
       "    </tr>\n",
       "    <tr>\n",
       "      <th>3</th>\n",
       "      <td>EP09</td>\n",
       "      <td>1</td>\n",
       "    </tr>\n",
       "    <tr>\n",
       "      <th>4</th>\n",
       "      <td>EP10</td>\n",
       "      <td>3</td>\n",
       "    </tr>\n",
       "    <tr>\n",
       "      <th>5</th>\n",
       "      <td>EP11</td>\n",
       "      <td>153</td>\n",
       "    </tr>\n",
       "    <tr>\n",
       "      <th>6</th>\n",
       "      <td>EP12</td>\n",
       "      <td>155</td>\n",
       "    </tr>\n",
       "    <tr>\n",
       "      <th>7</th>\n",
       "      <td>EP13</td>\n",
       "      <td>81</td>\n",
       "    </tr>\n",
       "    <tr>\n",
       "      <th>8</th>\n",
       "      <td>EP14</td>\n",
       "      <td>61</td>\n",
       "    </tr>\n",
       "    <tr>\n",
       "      <th>9</th>\n",
       "      <td>EP15</td>\n",
       "      <td>87</td>\n",
       "    </tr>\n",
       "    <tr>\n",
       "      <th>10</th>\n",
       "      <td>NA</td>\n",
       "      <td>3466</td>\n",
       "    </tr>\n",
       "  </tbody>\n",
       "</table>\n",
       "</div>"
      ],
      "text/plain": [
       "    Pack  # Bugs\n",
       "0   EP01       1\n",
       "1   EP07       9\n",
       "2   EP08      93\n",
       "3   EP09       1\n",
       "4   EP10       3\n",
       "5   EP11     153\n",
       "6   EP12     155\n",
       "7   EP13      81\n",
       "8   EP14      61\n",
       "9   EP15      87\n",
       "10    NA    3466"
      ]
     },
     "execution_count": 52,
     "metadata": {},
     "output_type": "execute_result"
    }
   ],
   "source": [
    "packs = pd.Series([f'EP{i:02d}' for i in range(1, n)])\n",
    "# print(packs)\n",
    "for substring in packs:\n",
    "     mask = CommunityIssue_bugs_eps['Label'].str.contains(substring, case=False)\n",
    "     CommunityIssue_bugs_eps.loc[mask, 'Pack'] = substring\n",
    "\n",
    "# CommunityIssue_bugs_eps.head(1)\n",
    "\n",
    "CommunityIssue_bugs_eps['Pack'].fillna('NA', inplace=True)\n",
    "# CommunityIssue_bugs_eps.dropna(subset=['Pack'], inplace=True)\n",
    "\n",
    "print(CommunityIssue_bugs_eps['Pack'].unique())\n",
    "CommunityIssue_bugs_eps['community_id'].count()\n",
    "\n",
    "CommunityIssue_bugs_eps.head(1)\n",
    "\n",
    "print('Number of bugs per pack: \\n')\n",
    "CommunityIssue_bugs_eps.groupby(['Pack'])['community_id'].count().reset_index(name='# Bugs')"
   ]
  },
  {
   "cell_type": "markdown",
   "id": "56ecf5b8-601e-4b89-b2c0-9355e4a49b2e",
   "metadata": {},
   "source": [
    "#### 2.2. The packs with less than 10 bugs are removed from the df. Packs = ['EP01', 'EP07', 'EP09', 'EP10', 'NA']"
   ]
  },
  {
   "cell_type": "code",
   "execution_count": 35,
   "id": "fe5607e5-5e87-4148-87a7-f086f53e8b48",
   "metadata": {},
   "outputs": [
    {
     "name": "stdout",
     "output_type": "stream",
     "text": [
      "List of packs for training: \n",
      " ['EP08' 'EP11' 'EP12' 'EP13' 'EP14' 'EP15']\n"
     ]
    },
    {
     "data": {
      "text/html": [
       "<div>\n",
       "<style scoped>\n",
       "    .dataframe tbody tr th:only-of-type {\n",
       "        vertical-align: middle;\n",
       "    }\n",
       "\n",
       "    .dataframe tbody tr th {\n",
       "        vertical-align: top;\n",
       "    }\n",
       "\n",
       "    .dataframe thead th {\n",
       "        text-align: right;\n",
       "    }\n",
       "</style>\n",
       "<table border=\"1\" class=\"dataframe\">\n",
       "  <thead>\n",
       "    <tr style=\"text-align: right;\">\n",
       "      <th></th>\n",
       "      <th>Pack</th>\n",
       "      <th>Created_date</th>\n",
       "      <th>Created_week_start</th>\n",
       "      <th>Created_year</th>\n",
       "      <th>Created_month</th>\n",
       "      <th># Bugs</th>\n",
       "    </tr>\n",
       "  </thead>\n",
       "  <tbody>\n",
       "    <tr>\n",
       "      <th>164</th>\n",
       "      <td>EP15</td>\n",
       "      <td>2024-01-30</td>\n",
       "      <td>2024-01-29</td>\n",
       "      <td>2024</td>\n",
       "      <td>1</td>\n",
       "      <td>2</td>\n",
       "    </tr>\n",
       "    <tr>\n",
       "      <th>165</th>\n",
       "      <td>EP15</td>\n",
       "      <td>2024-02-15</td>\n",
       "      <td>2024-02-12</td>\n",
       "      <td>2024</td>\n",
       "      <td>2</td>\n",
       "      <td>1</td>\n",
       "    </tr>\n",
       "    <tr>\n",
       "      <th>166</th>\n",
       "      <td>EP15</td>\n",
       "      <td>2024-02-19</td>\n",
       "      <td>2024-02-19</td>\n",
       "      <td>2024</td>\n",
       "      <td>2</td>\n",
       "      <td>1</td>\n",
       "    </tr>\n",
       "    <tr>\n",
       "      <th>167</th>\n",
       "      <td>EP15</td>\n",
       "      <td>2024-02-21</td>\n",
       "      <td>2024-02-19</td>\n",
       "      <td>2024</td>\n",
       "      <td>2</td>\n",
       "      <td>1</td>\n",
       "    </tr>\n",
       "    <tr>\n",
       "      <th>168</th>\n",
       "      <td>EP15</td>\n",
       "      <td>2024-03-04</td>\n",
       "      <td>2024-03-04</td>\n",
       "      <td>2024</td>\n",
       "      <td>3</td>\n",
       "      <td>2</td>\n",
       "    </tr>\n",
       "    <tr>\n",
       "      <th>169</th>\n",
       "      <td>EP15</td>\n",
       "      <td>2024-03-07</td>\n",
       "      <td>2024-03-04</td>\n",
       "      <td>2024</td>\n",
       "      <td>3</td>\n",
       "      <td>1</td>\n",
       "    </tr>\n",
       "    <tr>\n",
       "      <th>170</th>\n",
       "      <td>EP15</td>\n",
       "      <td>2024-03-11</td>\n",
       "      <td>2024-03-11</td>\n",
       "      <td>2024</td>\n",
       "      <td>3</td>\n",
       "      <td>1</td>\n",
       "    </tr>\n",
       "    <tr>\n",
       "      <th>171</th>\n",
       "      <td>EP15</td>\n",
       "      <td>2024-03-15</td>\n",
       "      <td>2024-03-11</td>\n",
       "      <td>2024</td>\n",
       "      <td>3</td>\n",
       "      <td>1</td>\n",
       "    </tr>\n",
       "    <tr>\n",
       "      <th>172</th>\n",
       "      <td>EP15</td>\n",
       "      <td>2024-06-18</td>\n",
       "      <td>2024-06-17</td>\n",
       "      <td>2024</td>\n",
       "      <td>6</td>\n",
       "      <td>1</td>\n",
       "    </tr>\n",
       "    <tr>\n",
       "      <th>173</th>\n",
       "      <td>EP15</td>\n",
       "      <td>2024-07-11</td>\n",
       "      <td>2024-07-08</td>\n",
       "      <td>2024</td>\n",
       "      <td>7</td>\n",
       "      <td>1</td>\n",
       "    </tr>\n",
       "  </tbody>\n",
       "</table>\n",
       "</div>"
      ],
      "text/plain": [
       "     Pack Created_date Created_week_start  Created_year  Created_month  # Bugs\n",
       "164  EP15   2024-01-30         2024-01-29          2024              1       2\n",
       "165  EP15   2024-02-15         2024-02-12          2024              2       1\n",
       "166  EP15   2024-02-19         2024-02-19          2024              2       1\n",
       "167  EP15   2024-02-21         2024-02-19          2024              2       1\n",
       "168  EP15   2024-03-04         2024-03-04          2024              3       2\n",
       "169  EP15   2024-03-07         2024-03-04          2024              3       1\n",
       "170  EP15   2024-03-11         2024-03-11          2024              3       1\n",
       "171  EP15   2024-03-15         2024-03-11          2024              3       1\n",
       "172  EP15   2024-06-18         2024-06-17          2024              6       1\n",
       "173  EP15   2024-07-11         2024-07-08          2024              7       1"
      ]
     },
     "execution_count": 35,
     "metadata": {},
     "output_type": "execute_result"
    }
   ],
   "source": [
    "Packs_excl = ['EP01', 'EP07', 'EP09', 'EP10', 'NA']  # \n",
    "CommunityIssue_bugs_eps = CommunityIssue_bugs_eps[~CommunityIssue_bugs_eps.Pack.isin(Packs_excl)]\n",
    "\n",
    "#### Creating some date times\n",
    "CommunityIssue_bugs_eps['Created_date'] = pd.to_datetime(CommunityIssue_bugs_eps['CreatedTime_UTC']).dt.date\n",
    "CommunityIssue_bugs_eps.head(1)\n",
    "\n",
    "CommunityIssue_bugs_eps['Created_year'] = pd.to_datetime(CommunityIssue_bugs_eps['Created_date']).dt.year\n",
    "CommunityIssue_bugs_eps['Created_month'] = pd.to_datetime(CommunityIssue_bugs_eps['Created_date']).dt.month\n",
    "CommunityIssue_bugs_eps['Created_week_of_month'] = (pd.to_datetime(CommunityIssue_bugs_eps['Created_date']).dt.day - 1) // 7 + 1\n",
    "CommunityIssue_bugs_eps['Created_week_start'] = pd.to_datetime(CommunityIssue_bugs_eps['Created_date']).dt.to_period('W').apply(lambda r: r.start_time)\n",
    "\n",
    "# CommunityIssue_bugs_daily = CommunityIssue_bugs_eps.groupby(['Pack', 'Created_date'])['community_id'].count().reset_index(name='# Bugs')\n",
    "# This one does not seem ok! \", 'Created_week_of_month' \"\n",
    "CommunityIssue_bugs_daily = CommunityIssue_bugs_eps.\\\n",
    "                        groupby(['Pack', 'Created_date', 'Created_week_start', 'Created_year', 'Created_month'])['community_id'].\\\n",
    "                        count().reset_index(name='# Bugs')\n",
    "\n",
    "# CommunityIssue_bugs_daily.to_csv('CommunityIssue_bugs_daily.csv', index=True)\n",
    "print('List of packs for training: \\n', CommunityIssue_bugs_daily['Pack'].unique())\n",
    "CommunityIssue_bugs_daily.tail(10)"
   ]
  },
  {
   "cell_type": "markdown",
   "id": "f46ac9b9-34b4-4a6a-82d7-eb2fbe1a398f",
   "metadata": {},
   "source": [
    "#### 2.3. Here you should define a data frame according to the upcoming pack information. This will be appended to the input df.  \n",
    "#### The projection is going to be for the five weeks after the launch date, so add the dates accordingly."
   ]
  },
  {
   "cell_type": "code",
   "execution_count": 76,
   "id": "4a5357d2-496e-42c4-b375-0c7860e1b61c",
   "metadata": {},
   "outputs": [],
   "source": [
    "## Try to append a df for the upcoming pack. \n",
    "d = {'Pack': ['EP16', 'EP16', 'EP16', 'EP16', 'EP16'], \n",
    "     'Created_date': ['2024-07-25', '2024-08-02', '2024-08-09', '2024-08-16', '2024-08-24'], \n",
    "     'Created_week_start' : ['2024-07-25', '2024-08-02', '2024-08-09', '2024-08-16', '2024-08-24'],\n",
    "     'Created_year' : [2024, 2024, 2024, 2024, 2024],\n",
    "     'Created_month' : [7, 7, 8, 8, 8],\n",
    "     '# Bugs': [0, 0, 0, 0, 0]\n",
    "    }\n",
    "     \n",
    "CommunityIssue_bugs_pack = pd.DataFrame(data=d)\n",
    "# CommunityIssue_bugs_pack.head(10)\n",
    "\n",
    "# CommunityIssue_bugs_daily.append(CommunityIssue_bugs_pack)\n",
    "CommunityIssue_bugs_daily = pd.concat([CommunityIssue_bugs_daily, CommunityIssue_bugs_pack])\n",
    "# CommunityIssue_bugs_daily.tail()"
   ]
  },
  {
   "cell_type": "markdown",
   "id": "c74a0158-53fa-4eb1-af9b-2eee33c97f36",
   "metadata": {},
   "source": [
    "#### 2.4. Importing \"Effort hours\" and \"No of features\" data. Please update the input files by appending upcoming pack data. "
   ]
  },
  {
   "cell_type": "code",
   "execution_count": 78,
   "id": "f1ba5348-cf0f-4c94-94ca-30eaf9162678",
   "metadata": {},
   "outputs": [
    {
     "name": "stdout",
     "output_type": "stream",
     "text": [
      "Index(['Pack', 'ShipDate', 'Features', 'Testing efforts', 'Created_date',\n",
      "       'Created_week_start', 'Created_year', 'Created_month', '# Bugs'],\n",
      "      dtype='object')\n",
      "['EP08' 'EP11' 'EP12' 'EP13' 'EP14' 'EP15' 'EP16']\n"
     ]
    }
   ],
   "source": [
    "## Features\n",
    "features = pd.read_csv(r\"C:\\Users\\bshakeri\\Electronic Arts\\Sims 4 QV [EAHY] - Documents\\Projection Materials\\Live Ops Projection\\Input\\Features_per_Packs.csv\")\n",
    "#features.head()\n",
    "features['ShipDate'] = pd.to_datetime(features['ShipDate'])\n",
    "\n",
    "## Efforts \n",
    "efforts = pd.read_csv(r\"C:\\Users\\bshakeri\\Electronic Arts\\Sims 4 QV [EAHY] - Documents\\Projection Materials\\Live Ops Projection\\Input\\Hours_per_Packs.csv\")\n",
    "#efforts.head()\n",
    "\n",
    "\n",
    "d1 = pd.merge(features, efforts, on = 'Pack', how = 'inner')\n",
    "\n",
    "d2 = pd.merge(d1, CommunityIssue_bugs_daily,  on = 'Pack', how = 'right')\n",
    "\n",
    "print(d2.columns)\n",
    "print(d2['Pack'].unique())\n",
    "\n",
    "# d2.tail(10)"
   ]
  },
  {
   "cell_type": "markdown",
   "id": "45256037-55ba-4529-bae2-db941c0aba8f",
   "metadata": {},
   "source": [
    "#### 2.5. Final input dataset"
   ]
  },
  {
   "cell_type": "code",
   "execution_count": 121,
   "id": "9b31dbe7-3770-4225-841d-8007266614e2",
   "metadata": {},
   "outputs": [
    {
     "data": {
      "text/html": [
       "<div>\n",
       "<style scoped>\n",
       "    .dataframe tbody tr th:only-of-type {\n",
       "        vertical-align: middle;\n",
       "    }\n",
       "\n",
       "    .dataframe tbody tr th {\n",
       "        vertical-align: top;\n",
       "    }\n",
       "\n",
       "    .dataframe thead th {\n",
       "        text-align: right;\n",
       "    }\n",
       "</style>\n",
       "<table border=\"1\" class=\"dataframe\">\n",
       "  <thead>\n",
       "    <tr style=\"text-align: right;\">\n",
       "      <th></th>\n",
       "      <th>Pack</th>\n",
       "      <th>ShipDate</th>\n",
       "      <th>Features</th>\n",
       "      <th>Testing efforts</th>\n",
       "      <th>Created_week_start</th>\n",
       "      <th># Bugs</th>\n",
       "    </tr>\n",
       "  </thead>\n",
       "  <tbody>\n",
       "    <tr>\n",
       "      <th>37</th>\n",
       "      <td>EP16</td>\n",
       "      <td>2024-07-25</td>\n",
       "      <td>69</td>\n",
       "      <td>10873</td>\n",
       "      <td>2024-08-15</td>\n",
       "      <td>0</td>\n",
       "    </tr>\n",
       "    <tr>\n",
       "      <th>38</th>\n",
       "      <td>EP16</td>\n",
       "      <td>2024-07-25</td>\n",
       "      <td>69</td>\n",
       "      <td>10873</td>\n",
       "      <td>2024-08-22</td>\n",
       "      <td>0</td>\n",
       "    </tr>\n",
       "  </tbody>\n",
       "</table>\n",
       "</div>"
      ],
      "text/plain": [
       "    Pack   ShipDate  Features  Testing efforts Created_week_start  # Bugs\n",
       "37  EP16 2024-07-25        69            10873         2024-08-15       0\n",
       "38  EP16 2024-07-25        69            10873         2024-08-22       0"
      ]
     },
     "execution_count": 121,
     "metadata": {},
     "output_type": "execute_result"
    }
   ],
   "source": [
    "## Only considering the bugs happen after the release date (6 buckets..)\n",
    "\n",
    "d2['Created_date'] = pd.to_datetime(d2['Created_date'])\n",
    "d2['ShipDate'] = pd.to_datetime(d2['ShipDate'])\n",
    "\n",
    "# Calculate the difference in weeks between date and ship_date\n",
    "# d2['weeks_after_ship'] = ((d2['Created_date'] - d2['ShipDate']).dt.days // 7 + 1).astype(int)\n",
    "# d2['weeks_after_ship'] = d2['weeks_after_ship'].apply(lambda x: 1 if x <= 0 else x)\n",
    "# d2 = d2[(d2['weeks_after_ship']<=5) & (d2['weeks_after_ship']>=0)]\n",
    "# # d2['DateDifference'] = (d2['ShipDate'] - d2['Created_date']).dt.days\n",
    "\n",
    "\n",
    "d2['DateDifference'] = (pd.to_datetime(d2['Created_date']) - pd.to_datetime(d2['ShipDate'])).dt.days\n",
    "# Create a new column 'weeks_after_ship' based on the conditions\n",
    "d2['weeks_after_ship'] = pd.cut(d2['DateDifference'],\n",
    "                         bins=[-float('inf'), 6, 13, 20, 27, 34, float('inf')], # \n",
    "                         labels=[1, 2, 3, 4, 5, 6]).astype(int)                 # ,6  \n",
    "\n",
    "# Calculate the end of the week date\n",
    "d2['EndOfWeek'] = pd.to_datetime(d2['ShipDate']) + pd.to_timedelta(d2['weeks_after_ship'] * 7, unit='D')\n",
    "d2['StartOfWeek'] = pd.to_datetime(d2['ShipDate']) + pd.to_timedelta((d2['weeks_after_ship']-1) * 7, unit='D')\n",
    "\n",
    "d2_final = d2.groupby(['Pack', 'ShipDate','Features', 'Testing efforts', 'StartOfWeek'])['# Bugs'].sum().reset_index()\n",
    "d2_final.rename(columns = {'StartOfWeek': 'Created_week_start'}, inplace=True)\n",
    "\n",
    "d2_final.tail(2)"
   ]
  },
  {
   "cell_type": "markdown",
   "id": "4bcdba73-d49f-4d81-98eb-398fb81bab82",
   "metadata": {},
   "source": [
    "### 3. Check the correlation between the input variables and actual bugs"
   ]
  },
  {
   "cell_type": "code",
   "execution_count": 123,
   "id": "33b0a7a7-57b8-4607-942d-123e1829e5c8",
   "metadata": {},
   "outputs": [
    {
     "name": "stdout",
     "output_type": "stream",
     "text": [
      "The correlation between Weekly number of bugs and Testing efforts is -0.09\n"
     ]
    }
   ],
   "source": [
    "correlation = d2_final['# Bugs'].corr(d2_final['Testing efforts'])\n",
    "print(f\"The correlation between Weekly number of bugs and Testing efforts is {correlation:.2f}\")"
   ]
  },
  {
   "cell_type": "code",
   "execution_count": 125,
   "id": "6376256b-3d56-4b57-9265-2e30b353dd1a",
   "metadata": {},
   "outputs": [
    {
     "name": "stdout",
     "output_type": "stream",
     "text": [
      "The correlation between Weekly number of bugs and Features is -0.16\n"
     ]
    }
   ],
   "source": [
    "correlation = d2_final['# Bugs'].corr(d2_final['Features'])\n",
    "print(f\"The correlation between Weekly number of bugs and Features is {correlation:.2f}\")"
   ]
  },
  {
   "cell_type": "markdown",
   "id": "372387d5-e17b-41b8-af6e-ff3714ac7580",
   "metadata": {},
   "source": [
    "### 4. New EP Release Prediction: Prophet \n",
    "#### Install and adding the necessary py. packages. "
   ]
  },
  {
   "cell_type": "code",
   "execution_count": 127,
   "id": "d0b21d89-3f64-4234-9f07-232bddb1e43b",
   "metadata": {},
   "outputs": [],
   "source": [
    "# pip install prophet\n",
    "from prophet import Prophet\n",
    "from prophet.plot import plot_plotly, plot_components_plotly\n",
    "from prophet.utilities import regressor_coefficients\n",
    "import matplotlib.pyplot as plt\n",
    "# from fbprophet import Prophet\n",
    "from statsmodels.tools.eval_measures import rmse"
   ]
  },
  {
   "cell_type": "markdown",
   "id": "811a2346-2af2-40f5-979a-f673e11e0f23",
   "metadata": {},
   "source": [
    "#### 4.1. Considering adding Features and Testing efforts as the regressors and validate the numbers.\n",
    "#### Make sure that the df_train and df_test get the correct set of packs. "
   ]
  },
  {
   "cell_type": "code",
   "execution_count": 161,
   "id": "96cd3794-c930-483f-bd25-21680d44a9bd",
   "metadata": {},
   "outputs": [
    {
     "name": "stderr",
     "output_type": "stream",
     "text": [
      "16:00:30 - cmdstanpy - INFO - Chain [1] start processing\n"
     ]
    },
    {
     "name": "stdout",
     "output_type": "stream",
     "text": [
      "Number of weeks in train data: 34\n",
      "Number of weeks in test data: 5\n"
     ]
    },
    {
     "name": "stderr",
     "output_type": "stream",
     "text": [
      "16:00:31 - cmdstanpy - INFO - Chain [1] done processing\n"
     ]
    },
    {
     "name": "stdout",
     "output_type": "stream",
     "text": [
      "0    60.841677\n",
      "1    36.670095\n",
      "2    20.981679\n",
      "3    13.572713\n",
      "4    15.764422\n",
      "Name: yhat, dtype: float64\n",
      "RMSE: 34\n",
      "          ds       yhat  yhat_lower  yhat_upper\n",
      "0 2024-07-25  60.841677   48.401237   73.482184\n",
      "1 2024-08-01  36.670095   23.927025   49.540771\n",
      "2 2024-08-08  20.981679    8.576424   34.417085\n",
      "3 2024-08-15  13.572713    0.516347   26.025416\n",
      "4 2024-08-22  15.764422    3.071809   28.550410\n"
     ]
    },
    {
     "data": {
      "image/png": "[encoded data removed]",
      "text/plain": [
       "<Figure size 1000x600 with 1 Axes>"
      ]
     },
     "metadata": {},
     "output_type": "display_data"
    },
    {
     "data": {
      "application/vnd.plotly.v1+json": {
       "config": {
        "plotlyServerURL": "https://plot.ly"
       },
       "data": [
        {
         "marker": {
          "color": "black",
          "size": 4
         },
         "mode": "markers",
         "name": "Actual",
         "type": "scatter",
         "x": [
          "2019-11-15T00:00:00",
          "2019-11-22T00:00:00",
          "2019-11-29T00:00:00",
          "2019-12-06T00:00:00",
          "2019-12-13T00:00:00",
          "2019-12-20T00:00:00",
          "2021-07-23T00:00:00",
          "2021-07-30T00:00:00",
          "2021-08-06T00:00:00",
          "2021-08-13T00:00:00",
          "2021-08-20T00:00:00",
          "2021-08-27T00:00:00",
          "2022-07-28T00:00:00",
          "2022-08-04T00:00:00",
          "2022-08-11T00:00:00",
          "2022-08-18T00:00:00",
          "2022-08-25T00:00:00",
          "2022-09-01T00:00:00",
          "2023-03-16T00:00:00",
          "2023-03-23T00:00:00",
          "2023-03-30T00:00:00",
          "2023-04-06T00:00:00",
          "2023-04-13T00:00:00",
          "2023-04-20T00:00:00",
          "2023-07-20T00:00:00",
          "2023-07-27T00:00:00",
          "2023-08-03T00:00:00",
          "2023-08-24T00:00:00",
          "2023-12-07T00:00:00",
          "2023-12-14T00:00:00",
          "2023-12-21T00:00:00",
          "2023-12-28T00:00:00",
          "2024-01-04T00:00:00",
          "2024-01-11T00:00:00"
         ],
         "y": [
          32,
          19,
          3,
          11,
          2,
          26,
          78,
          28,
          8,
          7,
          5,
          27,
          65,
          41,
          22,
          7,
          2,
          18,
          45,
          12,
          7,
          4,
          3,
          10,
          37,
          11,
          8,
          5,
          40,
          25,
          2,
          1,
          4,
          15
         ]
        },
        {
         "hoverinfo": "skip",
         "line": {
          "width": 0
         },
         "mode": "lines",
         "type": "scatter",
         "x": [
          "2024-07-25T00:00:00",
          "2024-08-01T00:00:00",
          "2024-08-08T00:00:00",
          "2024-08-15T00:00:00",
          "2024-08-22T00:00:00"
         ],
         "y": [
          48.40123661252698,
          23.92702527012055,
          8.576424300083348,
          0.5163468523869489,
          3.0718089550717225
         ]
        },
        {
         "fill": "tonexty",
         "fillcolor": "rgba(0, 114, 178, 0.2)",
         "line": {
          "color": "#0072B2",
          "width": 2
         },
         "mode": "lines",
         "name": "Predicted",
         "type": "scatter",
         "x": [
          "2024-07-25T00:00:00",
          "2024-08-01T00:00:00",
          "2024-08-08T00:00:00",
          "2024-08-15T00:00:00",
          "2024-08-22T00:00:00"
         ],
         "y": [
          60.841676949886974,
          36.670094568596085,
          20.981678783170636,
          13.572713016863261,
          15.76442182498944
         ]
        },
        {
         "fill": "tonexty",
         "fillcolor": "rgba(0, 114, 178, 0.2)",
         "hoverinfo": "skip",
         "line": {
          "width": 0
         },
         "mode": "lines",
         "type": "scatter",
         "x": [
          "2024-07-25T00:00:00",
          "2024-08-01T00:00:00",
          "2024-08-08T00:00:00",
          "2024-08-15T00:00:00",
          "2024-08-22T00:00:00"
         ],
         "y": [
          73.48218431859964,
          49.54077117812538,
          34.417085468258385,
          26.02541568902191,
          28.550410010939892
         ]
        }
       ],
       "layout": {
        "height": 600,
        "showlegend": false,
        "template": {
         "data": {
          "bar": [
           {
            "error_x": {
             "color": "#2a3f5f"
            },
            "error_y": {
             "color": "#2a3f5f"
            },
            "marker": {
             "line": {
              "color": "#E5ECF6",
              "width": 0.5
             },
             "pattern": {
              "fillmode": "overlay",
              "size": 10,
              "solidity": 0.2
             }
            },
            "type": "bar"
           }
          ],
          "barpolar": [
           {
            "marker": {
             "line": {
              "color": "#E5ECF6",
              "width": 0.5
             },
             "pattern": {
              "fillmode": "overlay",
              "size": 10,
              "solidity": 0.2
             }
            },
            "type": "barpolar"
           }
          ],
          "carpet": [
           {
            "aaxis": {
             "endlinecolor": "#2a3f5f",
             "gridcolor": "white",
             "linecolor": "white",
             "minorgridcolor": "white",
             "startlinecolor": "#2a3f5f"
            },
            "baxis": {
             "endlinecolor": "#2a3f5f",
             "gridcolor": "white",
             "linecolor": "white",
             "minorgridcolor": "white",
             "startlinecolor": "#2a3f5f"
            },
            "type": "carpet"
           }
          ],
          "choropleth": [
           {
            "colorbar": {
             "outlinewidth": 0,
             "ticks": ""
            },
            "type": "choropleth"
           }
          ],
          "contour": [
           {
            "colorbar": {
             "outlinewidth": 0,
             "ticks": ""
            },
            "colorscale": [
             [
              0,
              "#0d0887"
             ],
             [
              0.1111111111111111,
              "#46039f"
             ],
             [
              0.2222222222222222,
              "#7201a8"
             ],
             [
              0.3333333333333333,
              "#9c179e"
             ],
             [
              0.4444444444444444,
              "#bd3786"
             ],
             [
              0.5555555555555556,
              "#d8576b"
             ],
             [
              0.6666666666666666,
              "#ed7953"
             ],
             [
              0.7777777777777778,
              "#fb9f3a"
             ],
             [
              0.8888888888888888,
              "#fdca26"
             ],
             [
              1,
              "#f0f921"
             ]
            ],
            "type": "contour"
           }
          ],
          "contourcarpet": [
           {
            "colorbar": {
             "outlinewidth": 0,
             "ticks": ""
            },
            "type": "contourcarpet"
           }
          ],
          "heatmap": [
           {
            "colorbar": {
             "outlinewidth": 0,
             "ticks": ""
            },
            "colorscale": [
             [
              0,
              "#0d0887"
             ],
             [
              0.1111111111111111,
              "#46039f"
             ],
             [
              0.2222222222222222,
              "#7201a8"
             ],
             [
              0.3333333333333333,
              "#9c179e"
             ],
             [
              0.4444444444444444,
              "#bd3786"
             ],
             [
              0.5555555555555556,
              "#d8576b"
             ],
             [
              0.6666666666666666,
              "#ed7953"
             ],
             [
              0.7777777777777778,
              "#fb9f3a"
             ],
             [
              0.8888888888888888,
              "#fdca26"
             ],
             [
              1,
              "#f0f921"
             ]
            ],
            "type": "heatmap"
           }
          ],
          "heatmapgl": [
           {
            "colorbar": {
             "outlinewidth": 0,
             "ticks": ""
            },
            "colorscale": [
             [
              0,
              "#0d0887"
             ],
             [
              0.1111111111111111,
              "#46039f"
             ],
             [
              0.2222222222222222,
              "#7201a8"
             ],
             [
              0.3333333333333333,
              "#9c179e"
             ],
             [
              0.4444444444444444,
              "#bd3786"
             ],
             [
              0.5555555555555556,
              "#d8576b"
             ],
             [
              0.6666666666666666,
              "#ed7953"
             ],
             [
              0.7777777777777778,
              "#fb9f3a"
             ],
             [
              0.8888888888888888,
              "#fdca26"
             ],
             [
              1,
              "#f0f921"
             ]
            ],
            "type": "heatmapgl"
           }
          ],
          "histogram": [
           {
            "marker": {
             "pattern": {
              "fillmode": "overlay",
              "size": 10,
              "solidity": 0.2
             }
            },
            "type": "histogram"
           }
          ],
          "histogram2d": [
           {
            "colorbar": {
             "outlinewidth": 0,
             "ticks": ""
            },
            "colorscale": [
             [
              0,
              "#0d0887"
             ],
             [
              0.1111111111111111,
              "#46039f"
             ],
             [
              0.2222222222222222,
              "#7201a8"
             ],
             [
              0.3333333333333333,
              "#9c179e"
             ],
             [
              0.4444444444444444,
              "#bd3786"
             ],
             [
              0.5555555555555556,
              "#d8576b"
             ],
             [
              0.6666666666666666,
              "#ed7953"
             ],
             [
              0.7777777777777778,
              "#fb9f3a"
             ],
             [
              0.8888888888888888,
              "#fdca26"
             ],
             [
              1,
              "#f0f921"
             ]
            ],
            "type": "histogram2d"
           }
          ],
          "histogram2dcontour": [
           {
            "colorbar": {
             "outlinewidth": 0,
             "ticks": ""
            },
            "colorscale": [
             [
              0,
              "#0d0887"
             ],
             [
              0.1111111111111111,
              "#46039f"
             ],
             [
              0.2222222222222222,
              "#7201a8"
             ],
             [
              0.3333333333333333,
              "#9c179e"
             ],
             [
              0.4444444444444444,
              "#bd3786"
             ],
             [
              0.5555555555555556,
              "#d8576b"
             ],
             [
              0.6666666666666666,
              "#ed7953"
             ],
             [
              0.7777777777777778,
              "#fb9f3a"
             ],
             [
              0.8888888888888888,
              "#fdca26"
             ],
             [
              1,
              "#f0f921"
             ]
            ],
            "type": "histogram2dcontour"
           }
          ],
          "mesh3d": [
           {
            "colorbar": {
             "outlinewidth": 0,
             "ticks": ""
            },
            "type": "mesh3d"
           }
          ],
          "parcoords": [
           {
            "line": {
             "colorbar": {
              "outlinewidth": 0,
              "ticks": ""
             }
            },
            "type": "parcoords"
           }
          ],
          "pie": [
           {
            "automargin": true,
            "type": "pie"
           }
          ],
          "scatter": [
           {
            "fillpattern": {
             "fillmode": "overlay",
             "size": 10,
             "solidity": 0.2
            },
            "type": "scatter"
           }
          ],
          "scatter3d": [
           {
            "line": {
             "colorbar": {
              "outlinewidth": 0,
              "ticks": ""
             }
            },
            "marker": {
             "colorbar": {
              "outlinewidth": 0,
              "ticks": ""
             }
            },
            "type": "scatter3d"
           }
          ],
          "scattercarpet": [
           {
            "marker": {
             "colorbar": {
              "outlinewidth": 0,
              "ticks": ""
             }
            },
            "type": "scattercarpet"
           }
          ],
          "scattergeo": [
           {
            "marker": {
             "colorbar": {
              "outlinewidth": 0,
              "ticks": ""
             }
            },
            "type": "scattergeo"
           }
          ],
          "scattergl": [
           {
            "marker": {
             "colorbar": {
              "outlinewidth": 0,
              "ticks": ""
             }
            },
            "type": "scattergl"
           }
          ],
          "scattermapbox": [
           {
            "marker": {
             "colorbar": {
              "outlinewidth": 0,
              "ticks": ""
             }
            },
            "type": "scattermapbox"
           }
          ],
          "scatterpolar": [
           {
            "marker": {
             "colorbar": {
              "outlinewidth": 0,
              "ticks": ""
             }
            },
            "type": "scatterpolar"
           }
          ],
          "scatterpolargl": [
           {
            "marker": {
             "colorbar": {
              "outlinewidth": 0,
              "ticks": ""
             }
            },
            "type": "scatterpolargl"
           }
          ],
          "scatterternary": [
           {
            "marker": {
             "colorbar": {
              "outlinewidth": 0,
              "ticks": ""
             }
            },
            "type": "scatterternary"
           }
          ],
          "surface": [
           {
            "colorbar": {
             "outlinewidth": 0,
             "ticks": ""
            },
            "colorscale": [
             [
              0,
              "#0d0887"
             ],
             [
              0.1111111111111111,
              "#46039f"
             ],
             [
              0.2222222222222222,
              "#7201a8"
             ],
             [
              0.3333333333333333,
              "#9c179e"
             ],
             [
              0.4444444444444444,
              "#bd3786"
             ],
             [
              0.5555555555555556,
              "#d8576b"
             ],
             [
              0.6666666666666666,
              "#ed7953"
             ],
             [
              0.7777777777777778,
              "#fb9f3a"
             ],
             [
              0.8888888888888888,
              "#fdca26"
             ],
             [
              1,
              "#f0f921"
             ]
            ],
            "type": "surface"
           }
          ],
          "table": [
           {
            "cells": {
             "fill": {
              "color": "#EBF0F8"
             },
             "line": {
              "color": "white"
             }
            },
            "header": {
             "fill": {
              "color": "#C8D4E3"
             },
             "line": {
              "color": "white"
             }
            },
            "type": "table"
           }
          ]
         },
         "layout": {
          "annotationdefaults": {
           "arrowcolor": "#2a3f5f",
           "arrowhead": 0,
           "arrowwidth": 1
          },
          "autotypenumbers": "strict",
          "coloraxis": {
           "colorbar": {
            "outlinewidth": 0,
            "ticks": ""
           }
          },
          "colorscale": {
           "diverging": [
            [
             0,
             "#8e0152"
            ],
            [
             0.1,
             "#c51b7d"
            ],
            [
             0.2,
             "#de77ae"
            ],
            [
             0.3,
             "#f1b6da"
            ],
            [
             0.4,
             "#fde0ef"
            ],
            [
             0.5,
             "#f7f7f7"
            ],
            [
             0.6,
             "#e6f5d0"
            ],
            [
             0.7,
             "#b8e186"
            ],
            [
             0.8,
             "#7fbc41"
            ],
            [
             0.9,
             "#4d9221"
            ],
            [
             1,
             "#276419"
            ]
           ],
           "sequential": [
            [
             0,
             "#0d0887"
            ],
            [
             0.1111111111111111,
             "#46039f"
            ],
            [
             0.2222222222222222,
             "#7201a8"
            ],
            [
             0.3333333333333333,
             "#9c179e"
            ],
            [
             0.4444444444444444,
             "#bd3786"
            ],
            [
             0.5555555555555556,
             "#d8576b"
            ],
            [
             0.6666666666666666,
             "#ed7953"
            ],
            [
             0.7777777777777778,
             "#fb9f3a"
            ],
            [
             0.8888888888888888,
             "#fdca26"
            ],
            [
             1,
             "#f0f921"
            ]
           ],
           "sequentialminus": [
            [
             0,
             "#0d0887"
            ],
            [
             0.1111111111111111,
             "#46039f"
            ],
            [
             0.2222222222222222,
             "#7201a8"
            ],
            [
             0.3333333333333333,
             "#9c179e"
            ],
            [
             0.4444444444444444,
             "#bd3786"
            ],
            [
             0.5555555555555556,
             "#d8576b"
            ],
            [
             0.6666666666666666,
             "#ed7953"
            ],
            [
             0.7777777777777778,
             "#fb9f3a"
            ],
            [
             0.8888888888888888,
             "#fdca26"
            ],
            [
             1,
             "#f0f921"
            ]
           ]
          },
          "colorway": [
           "#636efa",
           "#EF553B",
           "#00cc96",
           "#ab63fa",
           "#FFA15A",
           "#19d3f3",
           "#FF6692",
           "#B6E880",
           "#FF97FF",
           "#FECB52"
          ],
          "font": {
           "color": "#2a3f5f"
          },
          "geo": {
           "bgcolor": "white",
           "lakecolor": "white",
           "landcolor": "#E5ECF6",
           "showlakes": true,
           "showland": true,
           "subunitcolor": "white"
          },
          "hoverlabel": {
           "align": "left"
          },
          "hovermode": "closest",
          "mapbox": {
           "style": "light"
          },
          "paper_bgcolor": "white",
          "plot_bgcolor": "#E5ECF6",
          "polar": {
           "angularaxis": {
            "gridcolor": "white",
            "linecolor": "white",
            "ticks": ""
           },
           "bgcolor": "#E5ECF6",
           "radialaxis": {
            "gridcolor": "white",
            "linecolor": "white",
            "ticks": ""
           }
          },
          "scene": {
           "xaxis": {
            "backgroundcolor": "#E5ECF6",
            "gridcolor": "white",
            "gridwidth": 2,
            "linecolor": "white",
            "showbackground": true,
            "ticks": "",
            "zerolinecolor": "white"
           },
           "yaxis": {
            "backgroundcolor": "#E5ECF6",
            "gridcolor": "white",
            "gridwidth": 2,
            "linecolor": "white",
            "showbackground": true,
            "ticks": "",
            "zerolinecolor": "white"
           },
           "zaxis": {
            "backgroundcolor": "#E5ECF6",
            "gridcolor": "white",
            "gridwidth": 2,
            "linecolor": "white",
            "showbackground": true,
            "ticks": "",
            "zerolinecolor": "white"
           }
          },
          "shapedefaults": {
           "line": {
            "color": "#2a3f5f"
           }
          },
          "ternary": {
           "aaxis": {
            "gridcolor": "white",
            "linecolor": "white",
            "ticks": ""
           },
           "baxis": {
            "gridcolor": "white",
            "linecolor": "white",
            "ticks": ""
           },
           "bgcolor": "#E5ECF6",
           "caxis": {
            "gridcolor": "white",
            "linecolor": "white",
            "ticks": ""
           }
          },
          "title": {
           "x": 0.05
          },
          "xaxis": {
           "automargin": true,
           "gridcolor": "white",
           "linecolor": "white",
           "ticks": "",
           "title": {
            "standoff": 15
           },
           "zerolinecolor": "white",
           "zerolinewidth": 2
          },
          "yaxis": {
           "automargin": true,
           "gridcolor": "white",
           "linecolor": "white",
           "ticks": "",
           "title": {
            "standoff": 15
           },
           "zerolinecolor": "white",
           "zerolinewidth": 2
          }
         }
        },
        "width": 900,
        "xaxis": {
         "autorange": true,
         "range": [
          "2019-08-07 10:58:17.1429",
          "2024-08-22"
         ],
         "rangeselector": {
          "buttons": [
           {
            "count": 7,
            "label": "1w",
            "step": "day",
            "stepmode": "backward"
           },
           {
            "count": 1,
            "label": "1m",
            "step": "month",
            "stepmode": "backward"
           },
           {
            "count": 6,
            "label": "6m",
            "step": "month",
            "stepmode": "backward"
           },
           {
            "count": 1,
            "label": "1y",
            "step": "year",
            "stepmode": "backward"
           },
           {
            "step": "all"
           }
          ]
         },
         "rangeslider": {
          "autorange": true,
          "range": [
           "2019-08-07 10:58:17.1429",
           "2024-08-22"
          ],
          "visible": true,
          "yaxis": {
           "_template": null,
           "rangemode": "match"
          }
         },
         "title": {
          "text": "ds"
         },
         "type": "date"
        },
        "yaxis": {
         "autorange": true,
         "range": [
          -4.16805411030177,
          83.16805411030177
         ],
         "title": {
          "text": "y"
         },
         "type": "linear"
        }
       }
      },
      "image/png": "[encoded data removed]",
      "text/html": [
       "<div>                            <div id=\"ecef24ab-0d9c-48c4-b61d-4c55b04d895e\" class=\"plotly-graph-div\" style=\"height:600px; width:900px;\"></div>            <script type=\"text/javascript\">                require([\"plotly\"], function(Plotly) {                    window.PLOTLYENV=window.PLOTLYENV || {};                                    if (document.getElementById(\"ecef24ab-0d9c-48c4-b61d-4c55b04d895e\")) {                    Plotly.newPlot(                        \"ecef24ab-0d9c-48c4-b61d-4c55b04d895e\",                        [{\"marker\":{\"color\":\"black\",\"size\":4},\"mode\":\"markers\",\"name\":\"Actual\",\"x\":[\"2019-11-15T00:00:00\",\"2019-11-22T00:00:00\",\"2019-11-29T00:00:00\",\"2019-12-06T00:00:00\",\"2019-12-13T00:00:00\",\"2019-12-20T00:00:00\",\"2021-07-23T00:00:00\",\"2021-07-30T00:00:00\",\"2021-08-06T00:00:00\",\"2021-08-13T00:00:00\",\"2021-08-20T00:00:00\",\"2021-08-27T00:00:00\",\"2022-07-28T00:00:00\",\"2022-08-04T00:00:00\",\"2022-08-11T00:00:00\",\"2022-08-18T00:00:00\",\"2022-08-25T00:00:00\",\"2022-09-01T00:00:00\",\"2023-03-16T00:00:00\",\"2023-03-23T00:00:00\",\"2023-03-30T00:00:00\",\"2023-04-06T00:00:00\",\"2023-04-13T00:00:00\",\"2023-04-20T00:00:00\",\"2023-07-20T00:00:00\",\"2023-07-27T00:00:00\",\"2023-08-03T00:00:00\",\"2023-08-24T00:00:00\",\"2023-12-07T00:00:00\",\"2023-12-14T00:00:00\",\"2023-12-21T00:00:00\",\"2023-12-28T00:00:00\",\"2024-01-04T00:00:00\",\"2024-01-11T00:00:00\"],\"y\":[32,19,3,11,2,26,78,28,8,7,5,27,65,41,22,7,2,18,45,12,7,4,3,10,37,11,8,5,40,25,2,1,4,15],\"type\":\"scatter\"},{\"hoverinfo\":\"skip\",\"line\":{\"width\":0},\"mode\":\"lines\",\"x\":[\"2024-07-25T00:00:00\",\"2024-08-01T00:00:00\",\"2024-08-08T00:00:00\",\"2024-08-15T00:00:00\",\"2024-08-22T00:00:00\"],\"y\":[48.40123661252698,23.92702527012055,8.576424300083348,0.5163468523869489,3.0718089550717225],\"type\":\"scatter\"},{\"fill\":\"tonexty\",\"fillcolor\":\"rgba(0, 114, 178, 0.2)\",\"line\":{\"color\":\"#0072B2\",\"width\":2},\"mode\":\"lines\",\"name\":\"Predicted\",\"x\":[\"2024-07-25T00:00:00\",\"2024-08-01T00:00:00\",\"2024-08-08T00:00:00\",\"2024-08-15T00:00:00\",\"2024-08-22T00:00:00\"],\"y\":[60.841676949886974,36.670094568596085,20.981678783170636,13.572713016863261,15.76442182498944],\"type\":\"scatter\"},{\"fill\":\"tonexty\",\"fillcolor\":\"rgba(0, 114, 178, 0.2)\",\"hoverinfo\":\"skip\",\"line\":{\"width\":0},\"mode\":\"lines\",\"x\":[\"2024-07-25T00:00:00\",\"2024-08-01T00:00:00\",\"2024-08-08T00:00:00\",\"2024-08-15T00:00:00\",\"2024-08-22T00:00:00\"],\"y\":[73.48218431859964,49.54077117812538,34.417085468258385,26.02541568902191,28.550410010939892],\"type\":\"scatter\"}],                        {\"height\":600,\"showlegend\":false,\"width\":900,\"xaxis\":{\"rangeselector\":{\"buttons\":[{\"count\":7,\"label\":\"1w\",\"step\":\"day\",\"stepmode\":\"backward\"},{\"count\":1,\"label\":\"1m\",\"step\":\"month\",\"stepmode\":\"backward\"},{\"count\":6,\"label\":\"6m\",\"step\":\"month\",\"stepmode\":\"backward\"},{\"count\":1,\"label\":\"1y\",\"step\":\"year\",\"stepmode\":\"backward\"},{\"step\":\"all\"}]},\"rangeslider\":{\"visible\":true},\"title\":{\"text\":\"ds\"},\"type\":\"date\"},\"yaxis\":{\"title\":{\"text\":\"y\"}},\"template\":{\"data\":{\"histogram2dcontour\":[{\"type\":\"histogram2dcontour\",\"colorbar\":{\"outlinewidth\":0,\"ticks\":\"\"},\"colorscale\":[[0.0,\"#0d0887\"],[0.1111111111111111,\"#46039f\"],[0.2222222222222222,\"#7201a8\"],[0.3333333333333333,\"#9c179e\"],[0.4444444444444444,\"#bd3786\"],[0.5555555555555556,\"#d8576b\"],[0.6666666666666666,\"#ed7953\"],[0.7777777777777778,\"#fb9f3a\"],[0.8888888888888888,\"#fdca26\"],[1.0,\"#f0f921\"]]}],\"choropleth\":[{\"type\":\"choropleth\",\"colorbar\":{\"outlinewidth\":0,\"ticks\":\"\"}}],\"histogram2d\":[{\"type\":\"histogram2d\",\"colorbar\":{\"outlinewidth\":0,\"ticks\":\"\"},\"colorscale\":[[0.0,\"#0d0887\"],[0.1111111111111111,\"#46039f\"],[0.2222222222222222,\"#7201a8\"],[0.3333333333333333,\"#9c179e\"],[0.4444444444444444,\"#bd3786\"],[0.5555555555555556,\"#d8576b\"],[0.6666666666666666,\"#ed7953\"],[0.7777777777777778,\"#fb9f3a\"],[0.8888888888888888,\"#fdca26\"],[1.0,\"#f0f921\"]]}],\"heatmap\":[{\"type\":\"heatmap\",\"colorbar\":{\"outlinewidth\":0,\"ticks\":\"\"},\"colorscale\":[[0.0,\"#0d0887\"],[0.1111111111111111,\"#46039f\"],[0.2222222222222222,\"#7201a8\"],[0.3333333333333333,\"#9c179e\"],[0.4444444444444444,\"#bd3786\"],[0.5555555555555556,\"#d8576b\"],[0.6666666666666666,\"#ed7953\"],[0.7777777777777778,\"#fb9f3a\"],[0.8888888888888888,\"#fdca26\"],[1.0,\"#f0f921\"]]}],\"heatmapgl\":[{\"type\":\"heatmapgl\",\"colorbar\":{\"outlinewidth\":0,\"ticks\":\"\"},\"colorscale\":[[0.0,\"#0d0887\"],[0.1111111111111111,\"#46039f\"],[0.2222222222222222,\"#7201a8\"],[0.3333333333333333,\"#9c179e\"],[0.4444444444444444,\"#bd3786\"],[0.5555555555555556,\"#d8576b\"],[0.6666666666666666,\"#ed7953\"],[0.7777777777777778,\"#fb9f3a\"],[0.8888888888888888,\"#fdca26\"],[1.0,\"#f0f921\"]]}],\"contourcarpet\":[{\"type\":\"contourcarpet\",\"colorbar\":{\"outlinewidth\":0,\"ticks\":\"\"}}],\"contour\":[{\"type\":\"contour\",\"colorbar\":{\"outlinewidth\":0,\"ticks\":\"\"},\"colorscale\":[[0.0,\"#0d0887\"],[0.1111111111111111,\"#46039f\"],[0.2222222222222222,\"#7201a8\"],[0.3333333333333333,\"#9c179e\"],[0.4444444444444444,\"#bd3786\"],[0.5555555555555556,\"#d8576b\"],[0.6666666666666666,\"#ed7953\"],[0.7777777777777778,\"#fb9f3a\"],[0.8888888888888888,\"#fdca26\"],[1.0,\"#f0f921\"]]}],\"surface\":[{\"type\":\"surface\",\"colorbar\":{\"outlinewidth\":0,\"ticks\":\"\"},\"colorscale\":[[0.0,\"#0d0887\"],[0.1111111111111111,\"#46039f\"],[0.2222222222222222,\"#7201a8\"],[0.3333333333333333,\"#9c179e\"],[0.4444444444444444,\"#bd3786\"],[0.5555555555555556,\"#d8576b\"],[0.6666666666666666,\"#ed7953\"],[0.7777777777777778,\"#fb9f3a\"],[0.8888888888888888,\"#fdca26\"],[1.0,\"#f0f921\"]]}],\"mesh3d\":[{\"type\":\"mesh3d\",\"colorbar\":{\"outlinewidth\":0,\"ticks\":\"\"}}],\"scatter\":[{\"fillpattern\":{\"fillmode\":\"overlay\",\"size\":10,\"solidity\":0.2},\"type\":\"scatter\"}],\"parcoords\":[{\"type\":\"parcoords\",\"line\":{\"colorbar\":{\"outlinewidth\":0,\"ticks\":\"\"}}}],\"scatterpolargl\":[{\"type\":\"scatterpolargl\",\"marker\":{\"colorbar\":{\"outlinewidth\":0,\"ticks\":\"\"}}}],\"bar\":[{\"error_x\":{\"color\":\"#2a3f5f\"},\"error_y\":{\"color\":\"#2a3f5f\"},\"marker\":{\"line\":{\"color\":\"#E5ECF6\",\"width\":0.5},\"pattern\":{\"fillmode\":\"overlay\",\"size\":10,\"solidity\":0.2}},\"type\":\"bar\"}],\"scattergeo\":[{\"type\":\"scattergeo\",\"marker\":{\"colorbar\":{\"outlinewidth\":0,\"ticks\":\"\"}}}],\"scatterpolar\":[{\"type\":\"scatterpolar\",\"marker\":{\"colorbar\":{\"outlinewidth\":0,\"ticks\":\"\"}}}],\"histogram\":[{\"marker\":{\"pattern\":{\"fillmode\":\"overlay\",\"size\":10,\"solidity\":0.2}},\"type\":\"histogram\"}],\"scattergl\":[{\"type\":\"scattergl\",\"marker\":{\"colorbar\":{\"outlinewidth\":0,\"ticks\":\"\"}}}],\"scatter3d\":[{\"type\":\"scatter3d\",\"line\":{\"colorbar\":{\"outlinewidth\":0,\"ticks\":\"\"}},\"marker\":{\"colorbar\":{\"outlinewidth\":0,\"ticks\":\"\"}}}],\"scattermapbox\":[{\"type\":\"scattermapbox\",\"marker\":{\"colorbar\":{\"outlinewidth\":0,\"ticks\":\"\"}}}],\"scatterternary\":[{\"type\":\"scatterternary\",\"marker\":{\"colorbar\":{\"outlinewidth\":0,\"ticks\":\"\"}}}],\"scattercarpet\":[{\"type\":\"scattercarpet\",\"marker\":{\"colorbar\":{\"outlinewidth\":0,\"ticks\":\"\"}}}],\"carpet\":[{\"aaxis\":{\"endlinecolor\":\"#2a3f5f\",\"gridcolor\":\"white\",\"linecolor\":\"white\",\"minorgridcolor\":\"white\",\"startlinecolor\":\"#2a3f5f\"},\"baxis\":{\"endlinecolor\":\"#2a3f5f\",\"gridcolor\":\"white\",\"linecolor\":\"white\",\"minorgridcolor\":\"white\",\"startlinecolor\":\"#2a3f5f\"},\"type\":\"carpet\"}],\"table\":[{\"cells\":{\"fill\":{\"color\":\"#EBF0F8\"},\"line\":{\"color\":\"white\"}},\"header\":{\"fill\":{\"color\":\"#C8D4E3\"},\"line\":{\"color\":\"white\"}},\"type\":\"table\"}],\"barpolar\":[{\"marker\":{\"line\":{\"color\":\"#E5ECF6\",\"width\":0.5},\"pattern\":{\"fillmode\":\"overlay\",\"size\":10,\"solidity\":0.2}},\"type\":\"barpolar\"}],\"pie\":[{\"automargin\":true,\"type\":\"pie\"}]},\"layout\":{\"autotypenumbers\":\"strict\",\"colorway\":[\"#636efa\",\"#EF553B\",\"#00cc96\",\"#ab63fa\",\"#FFA15A\",\"#19d3f3\",\"#FF6692\",\"#B6E880\",\"#FF97FF\",\"#FECB52\"],\"font\":{\"color\":\"#2a3f5f\"},\"hovermode\":\"closest\",\"hoverlabel\":{\"align\":\"left\"},\"paper_bgcolor\":\"white\",\"plot_bgcolor\":\"#E5ECF6\",\"polar\":{\"bgcolor\":\"#E5ECF6\",\"angularaxis\":{\"gridcolor\":\"white\",\"linecolor\":\"white\",\"ticks\":\"\"},\"radialaxis\":{\"gridcolor\":\"white\",\"linecolor\":\"white\",\"ticks\":\"\"}},\"ternary\":{\"bgcolor\":\"#E5ECF6\",\"aaxis\":{\"gridcolor\":\"white\",\"linecolor\":\"white\",\"ticks\":\"\"},\"baxis\":{\"gridcolor\":\"white\",\"linecolor\":\"white\",\"ticks\":\"\"},\"caxis\":{\"gridcolor\":\"white\",\"linecolor\":\"white\",\"ticks\":\"\"}},\"coloraxis\":{\"colorbar\":{\"outlinewidth\":0,\"ticks\":\"\"}},\"colorscale\":{\"sequential\":[[0.0,\"#0d0887\"],[0.1111111111111111,\"#46039f\"],[0.2222222222222222,\"#7201a8\"],[0.3333333333333333,\"#9c179e\"],[0.4444444444444444,\"#bd3786\"],[0.5555555555555556,\"#d8576b\"],[0.6666666666666666,\"#ed7953\"],[0.7777777777777778,\"#fb9f3a\"],[0.8888888888888888,\"#fdca26\"],[1.0,\"#f0f921\"]],\"sequentialminus\":[[0.0,\"#0d0887\"],[0.1111111111111111,\"#46039f\"],[0.2222222222222222,\"#7201a8\"],[0.3333333333333333,\"#9c179e\"],[0.4444444444444444,\"#bd3786\"],[0.5555555555555556,\"#d8576b\"],[0.6666666666666666,\"#ed7953\"],[0.7777777777777778,\"#fb9f3a\"],[0.8888888888888888,\"#fdca26\"],[1.0,\"#f0f921\"]],\"diverging\":[[0,\"#8e0152\"],[0.1,\"#c51b7d\"],[0.2,\"#de77ae\"],[0.3,\"#f1b6da\"],[0.4,\"#fde0ef\"],[0.5,\"#f7f7f7\"],[0.6,\"#e6f5d0\"],[0.7,\"#b8e186\"],[0.8,\"#7fbc41\"],[0.9,\"#4d9221\"],[1,\"#276419\"]]},\"xaxis\":{\"gridcolor\":\"white\",\"linecolor\":\"white\",\"ticks\":\"\",\"title\":{\"standoff\":15},\"zerolinecolor\":\"white\",\"automargin\":true,\"zerolinewidth\":2},\"yaxis\":{\"gridcolor\":\"white\",\"linecolor\":\"white\",\"ticks\":\"\",\"title\":{\"standoff\":15},\"zerolinecolor\":\"white\",\"automargin\":true,\"zerolinewidth\":2},\"scene\":{\"xaxis\":{\"backgroundcolor\":\"#E5ECF6\",\"gridcolor\":\"white\",\"linecolor\":\"white\",\"showbackground\":true,\"ticks\":\"\",\"zerolinecolor\":\"white\",\"gridwidth\":2},\"yaxis\":{\"backgroundcolor\":\"#E5ECF6\",\"gridcolor\":\"white\",\"linecolor\":\"white\",\"showbackground\":true,\"ticks\":\"\",\"zerolinecolor\":\"white\",\"gridwidth\":2},\"zaxis\":{\"backgroundcolor\":\"#E5ECF6\",\"gridcolor\":\"white\",\"linecolor\":\"white\",\"showbackground\":true,\"ticks\":\"\",\"zerolinecolor\":\"white\",\"gridwidth\":2}},\"shapedefaults\":{\"line\":{\"color\":\"#2a3f5f\"}},\"annotationdefaults\":{\"arrowcolor\":\"#2a3f5f\",\"arrowhead\":0,\"arrowwidth\":1},\"geo\":{\"bgcolor\":\"white\",\"landcolor\":\"#E5ECF6\",\"subunitcolor\":\"white\",\"showland\":true,\"showlakes\":true,\"lakecolor\":\"white\"},\"title\":{\"x\":0.05},\"mapbox\":{\"style\":\"light\"}}}},                        {\"responsive\": true}                    ).then(function(){\n",
       "                            \n",
       "var gd = document.getElementById('ecef24ab-0d9c-48c4-b61d-4c55b04d895e');\n",
       "var x = new MutationObserver(function (mutations, observer) {{\n",
       "        var display = window.getComputedStyle(gd).display;\n",
       "        if (!display || display === 'none') {{\n",
       "            console.log([gd, 'removed!']);\n",
       "            Plotly.purge(gd);\n",
       "            observer.disconnect();\n",
       "        }}\n",
       "}});\n",
       "\n",
       "// Listen for the removal of the full notebook cells\n",
       "var notebookContainer = gd.closest('#notebook-container');\n",
       "if (notebookContainer) {{\n",
       "    x.observe(notebookContainer, {childList: true});\n",
       "}}\n",
       "\n",
       "// Listen for the clearing of the current output cell\n",
       "var outputEl = gd.closest('.output');\n",
       "if (outputEl) {{\n",
       "    x.observe(outputEl, {childList: true});\n",
       "}}\n",
       "\n",
       "                        })                };                });            </script>        </div>"
      ]
     },
     "metadata": {},
     "output_type": "display_data"
    }
   ],
   "source": [
    "model_name =  'FB_Prophet_Regressors'\n",
    "\n",
    "d2_prophet = d2_final[['Created_week_start', 'Pack', 'Features', 'Testing efforts', '# Bugs']]\n",
    "d2_prophet.rename(columns={'Created_week_start': 'ds', '# Bugs':'y'}, inplace=True)\n",
    "d2_prophet.head()\n",
    "\n",
    "############ Test and train split\n",
    "# 'EP11' 'EP12' 'EP13' 'EP14' \n",
    "# split data \n",
    "d2_train = d2_prophet[d2_prophet['Pack'].isin(['EP08', 'EP11', 'EP12', 'EP13', 'EP14', 'EP15'])].drop('Pack', axis=1) # -- 'EP08', \n",
    "d2_test = d2_prophet[d2_prophet['Pack'].isin(['EP16'])].drop('Pack', axis=1)\n",
    "\n",
    "print(f\"Number of weeks in train data: {len(d2_train)}\")\n",
    "print(f\"Number of weeks in test data: {len(d2_test)}\")\n",
    "\n",
    "\n",
    "############ Check the numbers based on adding or removing the regressors\n",
    "model = Prophet(changepoint_prior_scale=0.009)  #seasonality_prior_scale=10\n",
    "# model.add_regressor('Features')  # , prior_scale=0.5, mode='multiplicative'\n",
    "model.add_regressor('Testing efforts')\n",
    "\n",
    "\n",
    "model.fit(d2_train) #d2_prophet\n",
    "\n",
    "### This is used for test/validation.\n",
    "future = d2_test.drop(['y'], axis=1)  # d2_prophet\n",
    "\n",
    "# future = model.make_future_dataframe(periods=5, freq='W')\n",
    "forecast = model.predict(future)\n",
    "\n",
    "predictions = forecast.iloc[-len(d2_test):]['yhat']\n",
    "actuals = d2_test['y']\n",
    "print(predictions)\n",
    "print(f\"RMSE: {round(rmse(predictions, actuals))}\")\n",
    "\n",
    "## Print the forecast\n",
    "print(forecast[['ds', 'yhat', 'yhat_lower', 'yhat_upper']].tail())\n",
    "\n",
    "data = pd.DataFrame(forecast[['ds', 'yhat', 'yhat_lower', 'yhat_upper']])\n",
    "data.to_csv(r'C:\\Users\\bshakeri\\Electronic Arts\\Sims 4 QV [EAHY] - Documents\\Projection Materials\\Live Ops Projection\\Output\\{pack}_live_Estimate_{model}.csv'\\\n",
    "            .format(pack=pack, model=model_name), \n",
    "            index=False)\n",
    "\n",
    "fig = model.plot(forecast)\n",
    "plt.legend(['Actual', 'Prediction', 'Uncertainty interval'])\n",
    "plt.show()\n",
    "\n",
    "plot_plotly(model, forecast)"
   ]
  },
  {
   "cell_type": "markdown",
   "id": "a8162b35-a1e3-47ed-8507-1d9e5eeb9167",
   "metadata": {},
   "source": [
    "#### 4.2. New EP Release Prediction: Prophet \n",
    "#### Only considering actual bugs as the time series since the there is very weak relations between the actual bugs and the regressors"
   ]
  },
  {
   "cell_type": "code",
   "execution_count": 163,
   "id": "6d723123-b785-4548-8034-bacfec8f94f6",
   "metadata": {},
   "outputs": [
    {
     "name": "stderr",
     "output_type": "stream",
     "text": [
      "16:01:05 - cmdstanpy - INFO - Chain [1] start processing\n",
      "16:01:05 - cmdstanpy - INFO - Chain [1] done processing\n"
     ]
    },
    {
     "name": "stdout",
     "output_type": "stream",
     "text": [
      "Number of weeks in train data: 34\n",
      "Number of weeks in test data: 5\n",
      "0    49.837002\n",
      "1    24.408161\n",
      "2    13.495873\n",
      "3     8.350013\n",
      "4     5.518706\n",
      "Name: yhat, dtype: float64\n",
      "RMSE: 26\n",
      "          ds       yhat  yhat_lower  yhat_upper\n",
      "0 2024-07-25  49.837002   35.151101   65.280458\n",
      "1 2024-08-01  24.408161    9.594886   39.923267\n",
      "2 2024-08-08  13.495873   -1.319474   28.846319\n",
      "3 2024-08-15   8.350013   -6.432845   23.412135\n",
      "4 2024-08-22   5.518706  -10.066223   20.699842\n"
     ]
    },
    {
     "data": {
      "image/png": "[encoded data removed]",
      "text/plain": [
       "<Figure size 1000x600 with 1 Axes>"
      ]
     },
     "metadata": {},
     "output_type": "display_data"
    },
    {
     "data": {
      "application/vnd.plotly.v1+json": {
       "config": {
        "plotlyServerURL": "https://plot.ly"
       },
       "data": [
        {
         "marker": {
          "color": "black",
          "size": 4
         },
         "mode": "markers",
         "name": "Actual",
         "type": "scatter",
         "x": [
          "2019-11-15T00:00:00",
          "2019-11-22T00:00:00",
          "2019-11-29T00:00:00",
          "2019-12-06T00:00:00",
          "2019-12-13T00:00:00",
          "2019-12-20T00:00:00",
          "2021-07-23T00:00:00",
          "2021-07-30T00:00:00",
          "2021-08-06T00:00:00",
          "2021-08-13T00:00:00",
          "2021-08-20T00:00:00",
          "2021-08-27T00:00:00",
          "2022-07-28T00:00:00",
          "2022-08-04T00:00:00",
          "2022-08-11T00:00:00",
          "2022-08-18T00:00:00",
          "2022-08-25T00:00:00",
          "2022-09-01T00:00:00",
          "2023-03-16T00:00:00",
          "2023-03-23T00:00:00",
          "2023-03-30T00:00:00",
          "2023-04-06T00:00:00",
          "2023-04-13T00:00:00",
          "2023-04-20T00:00:00",
          "2023-07-20T00:00:00",
          "2023-07-27T00:00:00",
          "2023-08-03T00:00:00",
          "2023-08-24T00:00:00",
          "2023-12-07T00:00:00",
          "2023-12-14T00:00:00",
          "2023-12-21T00:00:00",
          "2023-12-28T00:00:00",
          "2024-01-04T00:00:00",
          "2024-01-11T00:00:00"
         ],
         "y": [
          32,
          19,
          3,
          11,
          2,
          26,
          78,
          28,
          8,
          7,
          5,
          27,
          65,
          41,
          22,
          7,
          2,
          18,
          45,
          12,
          7,
          4,
          3,
          10,
          37,
          11,
          8,
          5,
          40,
          25,
          2,
          1,
          4,
          15
         ]
        },
        {
         "hoverinfo": "skip",
         "line": {
          "width": 0
         },
         "mode": "lines",
         "type": "scatter",
         "x": [
          "2024-07-25T00:00:00",
          "2024-08-01T00:00:00",
          "2024-08-08T00:00:00",
          "2024-08-15T00:00:00",
          "2024-08-22T00:00:00"
         ],
         "y": [
          35.15110135020064,
          9.59488561962827,
          -1.3194742544513243,
          -6.432844571486674,
          -10.066222578275179
         ]
        },
        {
         "fill": "tonexty",
         "fillcolor": "rgba(0, 114, 178, 0.2)",
         "line": {
          "color": "#0072B2",
          "width": 2
         },
         "mode": "lines",
         "name": "Predicted",
         "type": "scatter",
         "x": [
          "2024-07-25T00:00:00",
          "2024-08-01T00:00:00",
          "2024-08-08T00:00:00",
          "2024-08-15T00:00:00",
          "2024-08-22T00:00:00"
         ],
         "y": [
          49.83700216895272,
          24.408160662970886,
          13.495872890158907,
          8.350012910614453,
          5.518705720296424
         ]
        },
        {
         "fill": "tonexty",
         "fillcolor": "rgba(0, 114, 178, 0.2)",
         "hoverinfo": "skip",
         "line": {
          "width": 0
         },
         "mode": "lines",
         "type": "scatter",
         "x": [
          "2024-07-25T00:00:00",
          "2024-08-01T00:00:00",
          "2024-08-08T00:00:00",
          "2024-08-15T00:00:00",
          "2024-08-22T00:00:00"
         ],
         "y": [
          65.28045801041858,
          39.923266928461295,
          28.84631867230863,
          23.412135071497026,
          20.699841736923666
         ]
        }
       ],
       "layout": {
        "height": 600,
        "showlegend": false,
        "template": {
         "data": {
          "bar": [
           {
            "error_x": {
             "color": "#2a3f5f"
            },
            "error_y": {
             "color": "#2a3f5f"
            },
            "marker": {
             "line": {
              "color": "#E5ECF6",
              "width": 0.5
             },
             "pattern": {
              "fillmode": "overlay",
              "size": 10,
              "solidity": 0.2
             }
            },
            "type": "bar"
           }
          ],
          "barpolar": [
           {
            "marker": {
             "line": {
              "color": "#E5ECF6",
              "width": 0.5
             },
             "pattern": {
              "fillmode": "overlay",
              "size": 10,
              "solidity": 0.2
             }
            },
            "type": "barpolar"
           }
          ],
          "carpet": [
           {
            "aaxis": {
             "endlinecolor": "#2a3f5f",
             "gridcolor": "white",
             "linecolor": "white",
             "minorgridcolor": "white",
             "startlinecolor": "#2a3f5f"
            },
            "baxis": {
             "endlinecolor": "#2a3f5f",
             "gridcolor": "white",
             "linecolor": "white",
             "minorgridcolor": "white",
             "startlinecolor": "#2a3f5f"
            },
            "type": "carpet"
           }
          ],
          "choropleth": [
           {
            "colorbar": {
             "outlinewidth": 0,
             "ticks": ""
            },
            "type": "choropleth"
           }
          ],
          "contour": [
           {
            "colorbar": {
             "outlinewidth": 0,
             "ticks": ""
            },
            "colorscale": [
             [
              0,
              "#0d0887"
             ],
             [
              0.1111111111111111,
              "#46039f"
             ],
             [
              0.2222222222222222,
              "#7201a8"
             ],
             [
              0.3333333333333333,
              "#9c179e"
             ],
             [
              0.4444444444444444,
              "#bd3786"
             ],
             [
              0.5555555555555556,
              "#d8576b"
             ],
             [
              0.6666666666666666,
              "#ed7953"
             ],
             [
              0.7777777777777778,
              "#fb9f3a"
             ],
             [
              0.8888888888888888,
              "#fdca26"
             ],
             [
              1,
              "#f0f921"
             ]
            ],
            "type": "contour"
           }
          ],
          "contourcarpet": [
           {
            "colorbar": {
             "outlinewidth": 0,
             "ticks": ""
            },
            "type": "contourcarpet"
           }
          ],
          "heatmap": [
           {
            "colorbar": {
             "outlinewidth": 0,
             "ticks": ""
            },
            "colorscale": [
             [
              0,
              "#0d0887"
             ],
             [
              0.1111111111111111,
              "#46039f"
             ],
             [
              0.2222222222222222,
              "#7201a8"
             ],
             [
              0.3333333333333333,
              "#9c179e"
             ],
             [
              0.4444444444444444,
              "#bd3786"
             ],
             [
              0.5555555555555556,
              "#d8576b"
             ],
             [
              0.6666666666666666,
              "#ed7953"
             ],
             [
              0.7777777777777778,
              "#fb9f3a"
             ],
             [
              0.8888888888888888,
              "#fdca26"
             ],
             [
              1,
              "#f0f921"
             ]
            ],
            "type": "heatmap"
           }
          ],
          "heatmapgl": [
           {
            "colorbar": {
             "outlinewidth": 0,
             "ticks": ""
            },
            "colorscale": [
             [
              0,
              "#0d0887"
             ],
             [
              0.1111111111111111,
              "#46039f"
             ],
             [
              0.2222222222222222,
              "#7201a8"
             ],
             [
              0.3333333333333333,
              "#9c179e"
             ],
             [
              0.4444444444444444,
              "#bd3786"
             ],
             [
              0.5555555555555556,
              "#d8576b"
             ],
             [
              0.6666666666666666,
              "#ed7953"
             ],
             [
              0.7777777777777778,
              "#fb9f3a"
             ],
             [
              0.8888888888888888,
              "#fdca26"
             ],
             [
              1,
              "#f0f921"
             ]
            ],
            "type": "heatmapgl"
           }
          ],
          "histogram": [
           {
            "marker": {
             "pattern": {
              "fillmode": "overlay",
              "size": 10,
              "solidity": 0.2
             }
            },
            "type": "histogram"
           }
          ],
          "histogram2d": [
           {
            "colorbar": {
             "outlinewidth": 0,
             "ticks": ""
            },
            "colorscale": [
             [
              0,
              "#0d0887"
             ],
             [
              0.1111111111111111,
              "#46039f"
             ],
             [
              0.2222222222222222,
              "#7201a8"
             ],
             [
              0.3333333333333333,
              "#9c179e"
             ],
             [
              0.4444444444444444,
              "#bd3786"
             ],
             [
              0.5555555555555556,
              "#d8576b"
             ],
             [
              0.6666666666666666,
              "#ed7953"
             ],
             [
              0.7777777777777778,
              "#fb9f3a"
             ],
             [
              0.8888888888888888,
              "#fdca26"
             ],
             [
              1,
              "#f0f921"
             ]
            ],
            "type": "histogram2d"
           }
          ],
          "histogram2dcontour": [
           {
            "colorbar": {
             "outlinewidth": 0,
             "ticks": ""
            },
            "colorscale": [
             [
              0,
              "#0d0887"
             ],
             [
              0.1111111111111111,
              "#46039f"
             ],
             [
              0.2222222222222222,
              "#7201a8"
             ],
             [
              0.3333333333333333,
              "#9c179e"
             ],
             [
              0.4444444444444444,
              "#bd3786"
             ],
             [
              0.5555555555555556,
              "#d8576b"
             ],
             [
              0.6666666666666666,
              "#ed7953"
             ],
             [
              0.7777777777777778,
              "#fb9f3a"
             ],
             [
              0.8888888888888888,
              "#fdca26"
             ],
             [
              1,
              "#f0f921"
             ]
            ],
            "type": "histogram2dcontour"
           }
          ],
          "mesh3d": [
           {
            "colorbar": {
             "outlinewidth": 0,
             "ticks": ""
            },
            "type": "mesh3d"
           }
          ],
          "parcoords": [
           {
            "line": {
             "colorbar": {
              "outlinewidth": 0,
              "ticks": ""
             }
            },
            "type": "parcoords"
           }
          ],
          "pie": [
           {
            "automargin": true,
            "type": "pie"
           }
          ],
          "scatter": [
           {
            "fillpattern": {
             "fillmode": "overlay",
             "size": 10,
             "solidity": 0.2
            },
            "type": "scatter"
           }
          ],
          "scatter3d": [
           {
            "line": {
             "colorbar": {
              "outlinewidth": 0,
              "ticks": ""
             }
            },
            "marker": {
             "colorbar": {
              "outlinewidth": 0,
              "ticks": ""
             }
            },
            "type": "scatter3d"
           }
          ],
          "scattercarpet": [
           {
            "marker": {
             "colorbar": {
              "outlinewidth": 0,
              "ticks": ""
             }
            },
            "type": "scattercarpet"
           }
          ],
          "scattergeo": [
           {
            "marker": {
             "colorbar": {
              "outlinewidth": 0,
              "ticks": ""
             }
            },
            "type": "scattergeo"
           }
          ],
          "scattergl": [
           {
            "marker": {
             "colorbar": {
              "outlinewidth": 0,
              "ticks": ""
             }
            },
            "type": "scattergl"
           }
          ],
          "scattermapbox": [
           {
            "marker": {
             "colorbar": {
              "outlinewidth": 0,
              "ticks": ""
             }
            },
            "type": "scattermapbox"
           }
          ],
          "scatterpolar": [
           {
            "marker": {
             "colorbar": {
              "outlinewidth": 0,
              "ticks": ""
             }
            },
            "type": "scatterpolar"
           }
          ],
          "scatterpolargl": [
           {
            "marker": {
             "colorbar": {
              "outlinewidth": 0,
              "ticks": ""
             }
            },
            "type": "scatterpolargl"
           }
          ],
          "scatterternary": [
           {
            "marker": {
             "colorbar": {
              "outlinewidth": 0,
              "ticks": ""
             }
            },
            "type": "scatterternary"
           }
          ],
          "surface": [
           {
            "colorbar": {
             "outlinewidth": 0,
             "ticks": ""
            },
            "colorscale": [
             [
              0,
              "#0d0887"
             ],
             [
              0.1111111111111111,
              "#46039f"
             ],
             [
              0.2222222222222222,
              "#7201a8"
             ],
             [
              0.3333333333333333,
              "#9c179e"
             ],
             [
              0.4444444444444444,
              "#bd3786"
             ],
             [
              0.5555555555555556,
              "#d8576b"
             ],
             [
              0.6666666666666666,
              "#ed7953"
             ],
             [
              0.7777777777777778,
              "#fb9f3a"
             ],
             [
              0.8888888888888888,
              "#fdca26"
             ],
             [
              1,
              "#f0f921"
             ]
            ],
            "type": "surface"
           }
          ],
          "table": [
           {
            "cells": {
             "fill": {
              "color": "#EBF0F8"
             },
             "line": {
              "color": "white"
             }
            },
            "header": {
             "fill": {
              "color": "#C8D4E3"
             },
             "line": {
              "color": "white"
             }
            },
            "type": "table"
           }
          ]
         },
         "layout": {
          "annotationdefaults": {
           "arrowcolor": "#2a3f5f",
           "arrowhead": 0,
           "arrowwidth": 1
          },
          "autotypenumbers": "strict",
          "coloraxis": {
           "colorbar": {
            "outlinewidth": 0,
            "ticks": ""
           }
          },
          "colorscale": {
           "diverging": [
            [
             0,
             "#8e0152"
            ],
            [
             0.1,
             "#c51b7d"
            ],
            [
             0.2,
             "#de77ae"
            ],
            [
             0.3,
             "#f1b6da"
            ],
            [
             0.4,
             "#fde0ef"
            ],
            [
             0.5,
             "#f7f7f7"
            ],
            [
             0.6,
             "#e6f5d0"
            ],
            [
             0.7,
             "#b8e186"
            ],
            [
             0.8,
             "#7fbc41"
            ],
            [
             0.9,
             "#4d9221"
            ],
            [
             1,
             "#276419"
            ]
           ],
           "sequential": [
            [
             0,
             "#0d0887"
            ],
            [
             0.1111111111111111,
             "#46039f"
            ],
            [
             0.2222222222222222,
             "#7201a8"
            ],
            [
             0.3333333333333333,
             "#9c179e"
            ],
            [
             0.4444444444444444,
             "#bd3786"
            ],
            [
             0.5555555555555556,
             "#d8576b"
            ],
            [
             0.6666666666666666,
             "#ed7953"
            ],
            [
             0.7777777777777778,
             "#fb9f3a"
            ],
            [
             0.8888888888888888,
             "#fdca26"
            ],
            [
             1,
             "#f0f921"
            ]
           ],
           "sequentialminus": [
            [
             0,
             "#0d0887"
            ],
            [
             0.1111111111111111,
             "#46039f"
            ],
            [
             0.2222222222222222,
             "#7201a8"
            ],
            [
             0.3333333333333333,
             "#9c179e"
            ],
            [
             0.4444444444444444,
             "#bd3786"
            ],
            [
             0.5555555555555556,
             "#d8576b"
            ],
            [
             0.6666666666666666,
             "#ed7953"
            ],
            [
             0.7777777777777778,
             "#fb9f3a"
            ],
            [
             0.8888888888888888,
             "#fdca26"
            ],
            [
             1,
             "#f0f921"
            ]
           ]
          },
          "colorway": [
           "#636efa",
           "#EF553B",
           "#00cc96",
           "#ab63fa",
           "#FFA15A",
           "#19d3f3",
           "#FF6692",
           "#B6E880",
           "#FF97FF",
           "#FECB52"
          ],
          "font": {
           "color": "#2a3f5f"
          },
          "geo": {
           "bgcolor": "white",
           "lakecolor": "white",
           "landcolor": "#E5ECF6",
           "showlakes": true,
           "showland": true,
           "subunitcolor": "white"
          },
          "hoverlabel": {
           "align": "left"
          },
          "hovermode": "closest",
          "mapbox": {
           "style": "light"
          },
          "paper_bgcolor": "white",
          "plot_bgcolor": "#E5ECF6",
          "polar": {
           "angularaxis": {
            "gridcolor": "white",
            "linecolor": "white",
            "ticks": ""
           },
           "bgcolor": "#E5ECF6",
           "radialaxis": {
            "gridcolor": "white",
            "linecolor": "white",
            "ticks": ""
           }
          },
          "scene": {
           "xaxis": {
            "backgroundcolor": "#E5ECF6",
            "gridcolor": "white",
            "gridwidth": 2,
            "linecolor": "white",
            "showbackground": true,
            "ticks": "",
            "zerolinecolor": "white"
           },
           "yaxis": {
            "backgroundcolor": "#E5ECF6",
            "gridcolor": "white",
            "gridwidth": 2,
            "linecolor": "white",
            "showbackground": true,
            "ticks": "",
            "zerolinecolor": "white"
           },
           "zaxis": {
            "backgroundcolor": "#E5ECF6",
            "gridcolor": "white",
            "gridwidth": 2,
            "linecolor": "white",
            "showbackground": true,
            "ticks": "",
            "zerolinecolor": "white"
           }
          },
          "shapedefaults": {
           "line": {
            "color": "#2a3f5f"
           }
          },
          "ternary": {
           "aaxis": {
            "gridcolor": "white",
            "linecolor": "white",
            "ticks": ""
           },
           "baxis": {
            "gridcolor": "white",
            "linecolor": "white",
            "ticks": ""
           },
           "bgcolor": "#E5ECF6",
           "caxis": {
            "gridcolor": "white",
            "linecolor": "white",
            "ticks": ""
           }
          },
          "title": {
           "x": 0.05
          },
          "xaxis": {
           "automargin": true,
           "gridcolor": "white",
           "linecolor": "white",
           "ticks": "",
           "title": {
            "standoff": 15
           },
           "zerolinecolor": "white",
           "zerolinewidth": 2
          },
          "yaxis": {
           "automargin": true,
           "gridcolor": "white",
           "linecolor": "white",
           "ticks": "",
           "title": {
            "standoff": 15
           },
           "zerolinecolor": "white",
           "zerolinewidth": 2
          }
         }
        },
        "width": 900,
        "xaxis": {
         "autorange": true,
         "range": [
          "2019-08-07 10:58:17.1429",
          "2024-08-22"
         ],
         "rangeselector": {
          "buttons": [
           {
            "count": 7,
            "label": "1w",
            "step": "day",
            "stepmode": "backward"
           },
           {
            "count": 1,
            "label": "1m",
            "step": "month",
            "stepmode": "backward"
           },
           {
            "count": 6,
            "label": "6m",
            "step": "month",
            "stepmode": "backward"
           },
           {
            "count": 1,
            "label": "1y",
            "step": "year",
            "stepmode": "backward"
           },
           {
            "step": "all"
           }
          ]
         },
         "rangeslider": {
          "autorange": true,
          "range": [
           "2019-08-07 10:58:17.1429",
           "2024-08-22"
          ],
          "visible": true,
          "yaxis": {
           "_template": null,
           "rangemode": "match"
          }
         },
         "title": {
          "text": "ds"
         },
         "type": "date"
        },
        "yaxis": {
         "autorange": true,
         "range": [
          -15.009177398580016,
          83.84991900751673
         ],
         "title": {
          "text": "y"
         },
         "type": "linear"
        }
       }
      },
      "image/png": "[encoded data removed]",
      "text/html": [
       "<div>                            <div id=\"e35bc48c-be9d-49d0-b5a6-717949d5354c\" class=\"plotly-graph-div\" style=\"height:600px; width:900px;\"></div>            <script type=\"text/javascript\">                require([\"plotly\"], function(Plotly) {                    window.PLOTLYENV=window.PLOTLYENV || {};                                    if (document.getElementById(\"e35bc48c-be9d-49d0-b5a6-717949d5354c\")) {                    Plotly.newPlot(                        \"e35bc48c-be9d-49d0-b5a6-717949d5354c\",                        [{\"marker\":{\"color\":\"black\",\"size\":4},\"mode\":\"markers\",\"name\":\"Actual\",\"x\":[\"2019-11-15T00:00:00\",\"2019-11-22T00:00:00\",\"2019-11-29T00:00:00\",\"2019-12-06T00:00:00\",\"2019-12-13T00:00:00\",\"2019-12-20T00:00:00\",\"2021-07-23T00:00:00\",\"2021-07-30T00:00:00\",\"2021-08-06T00:00:00\",\"2021-08-13T00:00:00\",\"2021-08-20T00:00:00\",\"2021-08-27T00:00:00\",\"2022-07-28T00:00:00\",\"2022-08-04T00:00:00\",\"2022-08-11T00:00:00\",\"2022-08-18T00:00:00\",\"2022-08-25T00:00:00\",\"2022-09-01T00:00:00\",\"2023-03-16T00:00:00\",\"2023-03-23T00:00:00\",\"2023-03-30T00:00:00\",\"2023-04-06T00:00:00\",\"2023-04-13T00:00:00\",\"2023-04-20T00:00:00\",\"2023-07-20T00:00:00\",\"2023-07-27T00:00:00\",\"2023-08-03T00:00:00\",\"2023-08-24T00:00:00\",\"2023-12-07T00:00:00\",\"2023-12-14T00:00:00\",\"2023-12-21T00:00:00\",\"2023-12-28T00:00:00\",\"2024-01-04T00:00:00\",\"2024-01-11T00:00:00\"],\"y\":[32,19,3,11,2,26,78,28,8,7,5,27,65,41,22,7,2,18,45,12,7,4,3,10,37,11,8,5,40,25,2,1,4,15],\"type\":\"scatter\"},{\"hoverinfo\":\"skip\",\"line\":{\"width\":0},\"mode\":\"lines\",\"x\":[\"2024-07-25T00:00:00\",\"2024-08-01T00:00:00\",\"2024-08-08T00:00:00\",\"2024-08-15T00:00:00\",\"2024-08-22T00:00:00\"],\"y\":[35.15110135020064,9.59488561962827,-1.3194742544513243,-6.432844571486674,-10.066222578275179],\"type\":\"scatter\"},{\"fill\":\"tonexty\",\"fillcolor\":\"rgba(0, 114, 178, 0.2)\",\"line\":{\"color\":\"#0072B2\",\"width\":2},\"mode\":\"lines\",\"name\":\"Predicted\",\"x\":[\"2024-07-25T00:00:00\",\"2024-08-01T00:00:00\",\"2024-08-08T00:00:00\",\"2024-08-15T00:00:00\",\"2024-08-22T00:00:00\"],\"y\":[49.83700216895272,24.408160662970886,13.495872890158907,8.350012910614453,5.518705720296424],\"type\":\"scatter\"},{\"fill\":\"tonexty\",\"fillcolor\":\"rgba(0, 114, 178, 0.2)\",\"hoverinfo\":\"skip\",\"line\":{\"width\":0},\"mode\":\"lines\",\"x\":[\"2024-07-25T00:00:00\",\"2024-08-01T00:00:00\",\"2024-08-08T00:00:00\",\"2024-08-15T00:00:00\",\"2024-08-22T00:00:00\"],\"y\":[65.28045801041858,39.923266928461295,28.84631867230863,23.412135071497026,20.699841736923666],\"type\":\"scatter\"}],                        {\"height\":600,\"showlegend\":false,\"width\":900,\"xaxis\":{\"rangeselector\":{\"buttons\":[{\"count\":7,\"label\":\"1w\",\"step\":\"day\",\"stepmode\":\"backward\"},{\"count\":1,\"label\":\"1m\",\"step\":\"month\",\"stepmode\":\"backward\"},{\"count\":6,\"label\":\"6m\",\"step\":\"month\",\"stepmode\":\"backward\"},{\"count\":1,\"label\":\"1y\",\"step\":\"year\",\"stepmode\":\"backward\"},{\"step\":\"all\"}]},\"rangeslider\":{\"visible\":true},\"title\":{\"text\":\"ds\"},\"type\":\"date\"},\"yaxis\":{\"title\":{\"text\":\"y\"}},\"template\":{\"data\":{\"histogram2dcontour\":[{\"type\":\"histogram2dcontour\",\"colorbar\":{\"outlinewidth\":0,\"ticks\":\"\"},\"colorscale\":[[0.0,\"#0d0887\"],[0.1111111111111111,\"#46039f\"],[0.2222222222222222,\"#7201a8\"],[0.3333333333333333,\"#9c179e\"],[0.4444444444444444,\"#bd3786\"],[0.5555555555555556,\"#d8576b\"],[0.6666666666666666,\"#ed7953\"],[0.7777777777777778,\"#fb9f3a\"],[0.8888888888888888,\"#fdca26\"],[1.0,\"#f0f921\"]]}],\"choropleth\":[{\"type\":\"choropleth\",\"colorbar\":{\"outlinewidth\":0,\"ticks\":\"\"}}],\"histogram2d\":[{\"type\":\"histogram2d\",\"colorbar\":{\"outlinewidth\":0,\"ticks\":\"\"},\"colorscale\":[[0.0,\"#0d0887\"],[0.1111111111111111,\"#46039f\"],[0.2222222222222222,\"#7201a8\"],[0.3333333333333333,\"#9c179e\"],[0.4444444444444444,\"#bd3786\"],[0.5555555555555556,\"#d8576b\"],[0.6666666666666666,\"#ed7953\"],[0.7777777777777778,\"#fb9f3a\"],[0.8888888888888888,\"#fdca26\"],[1.0,\"#f0f921\"]]}],\"heatmap\":[{\"type\":\"heatmap\",\"colorbar\":{\"outlinewidth\":0,\"ticks\":\"\"},\"colorscale\":[[0.0,\"#0d0887\"],[0.1111111111111111,\"#46039f\"],[0.2222222222222222,\"#7201a8\"],[0.3333333333333333,\"#9c179e\"],[0.4444444444444444,\"#bd3786\"],[0.5555555555555556,\"#d8576b\"],[0.6666666666666666,\"#ed7953\"],[0.7777777777777778,\"#fb9f3a\"],[0.8888888888888888,\"#fdca26\"],[1.0,\"#f0f921\"]]}],\"heatmapgl\":[{\"type\":\"heatmapgl\",\"colorbar\":{\"outlinewidth\":0,\"ticks\":\"\"},\"colorscale\":[[0.0,\"#0d0887\"],[0.1111111111111111,\"#46039f\"],[0.2222222222222222,\"#7201a8\"],[0.3333333333333333,\"#9c179e\"],[0.4444444444444444,\"#bd3786\"],[0.5555555555555556,\"#d8576b\"],[0.6666666666666666,\"#ed7953\"],[0.7777777777777778,\"#fb9f3a\"],[0.8888888888888888,\"#fdca26\"],[1.0,\"#f0f921\"]]}],\"contourcarpet\":[{\"type\":\"contourcarpet\",\"colorbar\":{\"outlinewidth\":0,\"ticks\":\"\"}}],\"contour\":[{\"type\":\"contour\",\"colorbar\":{\"outlinewidth\":0,\"ticks\":\"\"},\"colorscale\":[[0.0,\"#0d0887\"],[0.1111111111111111,\"#46039f\"],[0.2222222222222222,\"#7201a8\"],[0.3333333333333333,\"#9c179e\"],[0.4444444444444444,\"#bd3786\"],[0.5555555555555556,\"#d8576b\"],[0.6666666666666666,\"#ed7953\"],[0.7777777777777778,\"#fb9f3a\"],[0.8888888888888888,\"#fdca26\"],[1.0,\"#f0f921\"]]}],\"surface\":[{\"type\":\"surface\",\"colorbar\":{\"outlinewidth\":0,\"ticks\":\"\"},\"colorscale\":[[0.0,\"#0d0887\"],[0.1111111111111111,\"#46039f\"],[0.2222222222222222,\"#7201a8\"],[0.3333333333333333,\"#9c179e\"],[0.4444444444444444,\"#bd3786\"],[0.5555555555555556,\"#d8576b\"],[0.6666666666666666,\"#ed7953\"],[0.7777777777777778,\"#fb9f3a\"],[0.8888888888888888,\"#fdca26\"],[1.0,\"#f0f921\"]]}],\"mesh3d\":[{\"type\":\"mesh3d\",\"colorbar\":{\"outlinewidth\":0,\"ticks\":\"\"}}],\"scatter\":[{\"fillpattern\":{\"fillmode\":\"overlay\",\"size\":10,\"solidity\":0.2},\"type\":\"scatter\"}],\"parcoords\":[{\"type\":\"parcoords\",\"line\":{\"colorbar\":{\"outlinewidth\":0,\"ticks\":\"\"}}}],\"scatterpolargl\":[{\"type\":\"scatterpolargl\",\"marker\":{\"colorbar\":{\"outlinewidth\":0,\"ticks\":\"\"}}}],\"bar\":[{\"error_x\":{\"color\":\"#2a3f5f\"},\"error_y\":{\"color\":\"#2a3f5f\"},\"marker\":{\"line\":{\"color\":\"#E5ECF6\",\"width\":0.5},\"pattern\":{\"fillmode\":\"overlay\",\"size\":10,\"solidity\":0.2}},\"type\":\"bar\"}],\"scattergeo\":[{\"type\":\"scattergeo\",\"marker\":{\"colorbar\":{\"outlinewidth\":0,\"ticks\":\"\"}}}],\"scatterpolar\":[{\"type\":\"scatterpolar\",\"marker\":{\"colorbar\":{\"outlinewidth\":0,\"ticks\":\"\"}}}],\"histogram\":[{\"marker\":{\"pattern\":{\"fillmode\":\"overlay\",\"size\":10,\"solidity\":0.2}},\"type\":\"histogram\"}],\"scattergl\":[{\"type\":\"scattergl\",\"marker\":{\"colorbar\":{\"outlinewidth\":0,\"ticks\":\"\"}}}],\"scatter3d\":[{\"type\":\"scatter3d\",\"line\":{\"colorbar\":{\"outlinewidth\":0,\"ticks\":\"\"}},\"marker\":{\"colorbar\":{\"outlinewidth\":0,\"ticks\":\"\"}}}],\"scattermapbox\":[{\"type\":\"scattermapbox\",\"marker\":{\"colorbar\":{\"outlinewidth\":0,\"ticks\":\"\"}}}],\"scatterternary\":[{\"type\":\"scatterternary\",\"marker\":{\"colorbar\":{\"outlinewidth\":0,\"ticks\":\"\"}}}],\"scattercarpet\":[{\"type\":\"scattercarpet\",\"marker\":{\"colorbar\":{\"outlinewidth\":0,\"ticks\":\"\"}}}],\"carpet\":[{\"aaxis\":{\"endlinecolor\":\"#2a3f5f\",\"gridcolor\":\"white\",\"linecolor\":\"white\",\"minorgridcolor\":\"white\",\"startlinecolor\":\"#2a3f5f\"},\"baxis\":{\"endlinecolor\":\"#2a3f5f\",\"gridcolor\":\"white\",\"linecolor\":\"white\",\"minorgridcolor\":\"white\",\"startlinecolor\":\"#2a3f5f\"},\"type\":\"carpet\"}],\"table\":[{\"cells\":{\"fill\":{\"color\":\"#EBF0F8\"},\"line\":{\"color\":\"white\"}},\"header\":{\"fill\":{\"color\":\"#C8D4E3\"},\"line\":{\"color\":\"white\"}},\"type\":\"table\"}],\"barpolar\":[{\"marker\":{\"line\":{\"color\":\"#E5ECF6\",\"width\":0.5},\"pattern\":{\"fillmode\":\"overlay\",\"size\":10,\"solidity\":0.2}},\"type\":\"barpolar\"}],\"pie\":[{\"automargin\":true,\"type\":\"pie\"}]},\"layout\":{\"autotypenumbers\":\"strict\",\"colorway\":[\"#636efa\",\"#EF553B\",\"#00cc96\",\"#ab63fa\",\"#FFA15A\",\"#19d3f3\",\"#FF6692\",\"#B6E880\",\"#FF97FF\",\"#FECB52\"],\"font\":{\"color\":\"#2a3f5f\"},\"hovermode\":\"closest\",\"hoverlabel\":{\"align\":\"left\"},\"paper_bgcolor\":\"white\",\"plot_bgcolor\":\"#E5ECF6\",\"polar\":{\"bgcolor\":\"#E5ECF6\",\"angularaxis\":{\"gridcolor\":\"white\",\"linecolor\":\"white\",\"ticks\":\"\"},\"radialaxis\":{\"gridcolor\":\"white\",\"linecolor\":\"white\",\"ticks\":\"\"}},\"ternary\":{\"bgcolor\":\"#E5ECF6\",\"aaxis\":{\"gridcolor\":\"white\",\"linecolor\":\"white\",\"ticks\":\"\"},\"baxis\":{\"gridcolor\":\"white\",\"linecolor\":\"white\",\"ticks\":\"\"},\"caxis\":{\"gridcolor\":\"white\",\"linecolor\":\"white\",\"ticks\":\"\"}},\"coloraxis\":{\"colorbar\":{\"outlinewidth\":0,\"ticks\":\"\"}},\"colorscale\":{\"sequential\":[[0.0,\"#0d0887\"],[0.1111111111111111,\"#46039f\"],[0.2222222222222222,\"#7201a8\"],[0.3333333333333333,\"#9c179e\"],[0.4444444444444444,\"#bd3786\"],[0.5555555555555556,\"#d8576b\"],[0.6666666666666666,\"#ed7953\"],[0.7777777777777778,\"#fb9f3a\"],[0.8888888888888888,\"#fdca26\"],[1.0,\"#f0f921\"]],\"sequentialminus\":[[0.0,\"#0d0887\"],[0.1111111111111111,\"#46039f\"],[0.2222222222222222,\"#7201a8\"],[0.3333333333333333,\"#9c179e\"],[0.4444444444444444,\"#bd3786\"],[0.5555555555555556,\"#d8576b\"],[0.6666666666666666,\"#ed7953\"],[0.7777777777777778,\"#fb9f3a\"],[0.8888888888888888,\"#fdca26\"],[1.0,\"#f0f921\"]],\"diverging\":[[0,\"#8e0152\"],[0.1,\"#c51b7d\"],[0.2,\"#de77ae\"],[0.3,\"#f1b6da\"],[0.4,\"#fde0ef\"],[0.5,\"#f7f7f7\"],[0.6,\"#e6f5d0\"],[0.7,\"#b8e186\"],[0.8,\"#7fbc41\"],[0.9,\"#4d9221\"],[1,\"#276419\"]]},\"xaxis\":{\"gridcolor\":\"white\",\"linecolor\":\"white\",\"ticks\":\"\",\"title\":{\"standoff\":15},\"zerolinecolor\":\"white\",\"automargin\":true,\"zerolinewidth\":2},\"yaxis\":{\"gridcolor\":\"white\",\"linecolor\":\"white\",\"ticks\":\"\",\"title\":{\"standoff\":15},\"zerolinecolor\":\"white\",\"automargin\":true,\"zerolinewidth\":2},\"scene\":{\"xaxis\":{\"backgroundcolor\":\"#E5ECF6\",\"gridcolor\":\"white\",\"linecolor\":\"white\",\"showbackground\":true,\"ticks\":\"\",\"zerolinecolor\":\"white\",\"gridwidth\":2},\"yaxis\":{\"backgroundcolor\":\"#E5ECF6\",\"gridcolor\":\"white\",\"linecolor\":\"white\",\"showbackground\":true,\"ticks\":\"\",\"zerolinecolor\":\"white\",\"gridwidth\":2},\"zaxis\":{\"backgroundcolor\":\"#E5ECF6\",\"gridcolor\":\"white\",\"linecolor\":\"white\",\"showbackground\":true,\"ticks\":\"\",\"zerolinecolor\":\"white\",\"gridwidth\":2}},\"shapedefaults\":{\"line\":{\"color\":\"#2a3f5f\"}},\"annotationdefaults\":{\"arrowcolor\":\"#2a3f5f\",\"arrowhead\":0,\"arrowwidth\":1},\"geo\":{\"bgcolor\":\"white\",\"landcolor\":\"#E5ECF6\",\"subunitcolor\":\"white\",\"showland\":true,\"showlakes\":true,\"lakecolor\":\"white\"},\"title\":{\"x\":0.05},\"mapbox\":{\"style\":\"light\"}}}},                        {\"responsive\": true}                    ).then(function(){\n",
       "                            \n",
       "var gd = document.getElementById('e35bc48c-be9d-49d0-b5a6-717949d5354c');\n",
       "var x = new MutationObserver(function (mutations, observer) {{\n",
       "        var display = window.getComputedStyle(gd).display;\n",
       "        if (!display || display === 'none') {{\n",
       "            console.log([gd, 'removed!']);\n",
       "            Plotly.purge(gd);\n",
       "            observer.disconnect();\n",
       "        }}\n",
       "}});\n",
       "\n",
       "// Listen for the removal of the full notebook cells\n",
       "var notebookContainer = gd.closest('#notebook-container');\n",
       "if (notebookContainer) {{\n",
       "    x.observe(notebookContainer, {childList: true});\n",
       "}}\n",
       "\n",
       "// Listen for the clearing of the current output cell\n",
       "var outputEl = gd.closest('.output');\n",
       "if (outputEl) {{\n",
       "    x.observe(outputEl, {childList: true});\n",
       "}}\n",
       "\n",
       "                        })                };                });            </script>        </div>"
      ]
     },
     "metadata": {},
     "output_type": "display_data"
    }
   ],
   "source": [
    "model_name =  'FB_Prophet_Vanila'\n",
    "\n",
    "d2_prophet = d2_final[['Created_week_start', 'Pack', '# Bugs']]\n",
    "d2_prophet.rename(columns={'Created_week_start': 'ds', '# Bugs':'y'}, inplace=True)\n",
    "\n",
    "# ########### Test and train split\n",
    "d3_train = d2_prophet[d2_prophet['Pack'].isin(['EP08', 'EP11', 'EP12', 'EP13', 'EP14', 'EP15'])].drop('Pack', axis=1) \n",
    "d3_test = d2_prophet[d2_prophet['Pack'].isin(['EP16'])].drop('Pack', axis=1)\n",
    "\n",
    "print(f\"Number of weeks in train data: {len(d3_train)}\")\n",
    "print(f\"Number of weeks in test data: {len(d3_test)}\")\n",
    "\n",
    "new_model = Prophet()  # seasonality_prior_scale\n",
    "new_model.fit(d3_train) #d2_prophet\n",
    "\n",
    "### This is used for test/validation.\n",
    "future = d3_test.drop(['y'], axis=1)  # d2_prophet\n",
    "\n",
    "# future = model.make_future_dataframe(periods=5, freq='W')\n",
    "forecast = new_model.predict(future)\n",
    "\n",
    "predictions = forecast.iloc[-len(d3_test):]['yhat']\n",
    "actuals = d3_test['y']\n",
    "print(predictions)\n",
    "print(f\"RMSE: {round(rmse(predictions, actuals))}\")\n",
    "\n",
    "## Print the forecast\n",
    "print(forecast[['ds', 'yhat', 'yhat_lower', 'yhat_upper']].tail())\n",
    "\n",
    "data = pd.DataFrame(forecast[['ds', 'yhat', 'yhat_lower', 'yhat_upper']])\n",
    "data.to_csv(r'C:\\Users\\bshakeri\\Electronic Arts\\Sims 4 QV [EAHY] - Documents\\Projection Materials\\Live Ops Projection\\Output\\{pack}_live_Estimate_{model}.csv'\\\n",
    "            .format(pack=pack, model=model_name), \n",
    "            index=False)\n",
    "\n",
    "fig = model.plot(forecast)\n",
    "plt.legend(['Actual', 'Prediction', 'Uncertainty interval'])\n",
    "plt.show()\n",
    "\n",
    "plot_plotly(model, forecast)"
   ]
  }
 ],
 "metadata": {
  "kernelspec": {
   "display_name": "Python 3 (ipykernel)",
   "language": "python",
   "name": "python3"
  },
  "language_info": {
   "codemirror_mode": {
    "name": "ipython",
    "version": 3
   },
   "file_extension": ".py",
   "mimetype": "text/x-python",
   "name": "python",
   "nbconvert_exporter": "python",
   "pygments_lexer": "ipython3",
   "version": "3.12.4"
  }
 },
 "nbformat": 4,
 "nbformat_minor": 5
}
